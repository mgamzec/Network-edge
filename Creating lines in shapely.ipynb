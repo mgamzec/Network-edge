{
 "cells": [
  {
   "cell_type": "markdown",
   "id": "7ca86ab7-74b5-4433-a3d9-edefda7cfd60",
   "metadata": {},
   "source": [
    "# Lines\n",
    "More precisely named 'linestrings', these objects contain at least two points.\n",
    "The structered LineString object represents one or more connected linear splines between the points. Repeated points in the ordered sequence are allowed, but may occur performance penalties and should be avoided. A LineString may cross itself (i.e. be complex and not simple)"
   ]
  },
  {
   "cell_type": "code",
   "execution_count": 2,
   "id": "9ec6db3d-c5c5-4316-935f-9807aaf02641",
   "metadata": {},
   "outputs": [
    {
     "data": {
      "image/svg+xml": [
       "<svg xmlns=\"http://www.w3.org/2000/svg\" xmlns:xlink=\"http://www.w3.org/1999/xlink\" width=\"100.0\" height=\"100.0\" viewBox=\"1.96 2.96 1.08 1.08\" preserveAspectRatio=\"xMinYMin meet\"><g transform=\"matrix(1,0,0,-1,0,7.0)\"><polyline fill=\"none\" stroke=\"#66cc99\" stroke-width=\"0.0216\" points=\"2.0,3.0 3.0,4.0\" opacity=\"0.8\" /></g></svg>"
      ],
      "text/plain": [
       "<LINESTRING (2 3, 3 4)>"
      ]
     },
     "execution_count": 2,
     "metadata": {},
     "output_type": "execute_result"
    }
   ],
   "source": [
    "# Example\n",
    "from shapely.geometry import LineString\n",
    "my_line = LineString([(2,3), (3,4)])\n",
    "my_line"
   ]
  },
  {
   "cell_type": "markdown",
   "id": "6b17409e-d3b6-4d97-94c8-e54a7ae18eaa",
   "metadata": {},
   "source": [
    "Let's confirm that:"
   ]
  },
  {
   "cell_type": "code",
   "execution_count": 3,
   "id": "c57c8c0c-efb9-4cbb-83fe-91b3da086e0c",
   "metadata": {},
   "outputs": [
    {
     "data": {
      "text/plain": [
       "'LineString'"
      ]
     },
     "execution_count": 3,
     "metadata": {},
     "output_type": "execute_result"
    }
   ],
   "source": [
    "# Example\n",
    "my_line.geom_type"
   ]
  },
  {
   "cell_type": "markdown",
   "id": "216e8b4d-39df-48f9-935f-3a99ab43b2ae",
   "metadata": {},
   "source": [
    "We have similar functionality to the Point objects we played with previously.\n",
    "For example, a line with have a zero area:"
   ]
  },
  {
   "cell_type": "code",
   "execution_count": 4,
   "id": "845c60cd-0f08-4df2-af77-e4775d2a33ee",
   "metadata": {},
   "outputs": [
    {
     "data": {
      "text/plain": [
       "0.0"
      ]
     },
     "execution_count": 4,
     "metadata": {},
     "output_type": "execute_result"
    }
   ],
   "source": [
    "# Example\n",
    "my_line.area"
   ]
  },
  {
   "cell_type": "markdown",
   "id": "da7acc48-533a-42a7-9044-4f15985fe5d5",
   "metadata": {},
   "source": [
    "But contrast, a line will have a clear length:"
   ]
  },
  {
   "cell_type": "code",
   "execution_count": 5,
   "id": "626c95ed-9186-4b54-b172-96ba1ab3ac4c",
   "metadata": {},
   "outputs": [
    {
     "data": {
      "text/plain": [
       "1.4142135623730951"
      ]
     },
     "execution_count": 5,
     "metadata": {},
     "output_type": "execute_result"
    }
   ],
   "source": [
    "# Example\n",
    "my_line.length # Your units depend on the coordinate reference system "
   ]
  },
  {
   "cell_type": "markdown",
   "id": "eb801125-8b15-461e-a858-6bca30b664cc",
   "metadata": {},
   "source": [
    "And a line has the following bounds:"
   ]
  },
  {
   "cell_type": "code",
   "execution_count": 6,
   "id": "9861e6bc-c02d-4db8-8fbf-f7eb0b9804e6",
   "metadata": {},
   "outputs": [
    {
     "data": {
      "text/plain": [
       "(2.0, 3.0, 3.0, 4.0)"
      ]
     },
     "execution_count": 6,
     "metadata": {},
     "output_type": "execute_result"
    }
   ],
   "source": [
    "# Example\n",
    "my_line.bounds"
   ]
  },
  {
   "cell_type": "markdown",
   "id": "b6dbc9b4-edbd-49b9-8f04-0279d5508b57",
   "metadata": {},
   "source": [
    "Finally, we can access the coordinates within our Shapely object easily:"
   ]
  },
  {
   "cell_type": "code",
   "execution_count": 7,
   "id": "649e51d1-cf8c-41c6-ab97-02d5e6a9ce9e",
   "metadata": {},
   "outputs": [
    {
     "name": "stdout",
     "output_type": "stream",
     "text": [
      "[(2.0, 3.0), (3.0, 4.0)]\n"
     ]
    }
   ],
   "source": [
    "# Example\n",
    "print(list(my_line.coords))"
   ]
  },
  {
   "cell_type": "code",
   "execution_count": null,
   "id": "0628ab27-f1de-4933-b32f-9b414e2a67d4",
   "metadata": {},
   "outputs": [],
   "source": []
  }
 ],
 "metadata": {
  "kernelspec": {
   "display_name": "Python 3 (ipykernel)",
   "language": "python",
   "name": "python3"
  },
  "language_info": {
   "codemirror_mode": {
    "name": "ipython",
    "version": 3
   },
   "file_extension": ".py",
   "mimetype": "text/x-python",
   "name": "python",
   "nbconvert_exporter": "python",
   "pygments_lexer": "ipython3",
   "version": "3.11.5"
  }
 },
 "nbformat": 4,
 "nbformat_minor": 5
}
