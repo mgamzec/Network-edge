{
 "cells": [
  {
   "cell_type": "markdown",
   "id": "75cdda1d-3941-4d8a-8958-7eddf1ab4aa0",
   "metadata": {},
   "source": [
    "Shapely allows us to:\n",
    "- Asses relationship between different things(e.g. Geometric objects)\n",
    "   contains, intersection, touching, overlapping\n",
    "- Carry out operations between diffrent things(e.g. Geometric objects)\n",
    "   constructive (buffer, convex hull) and set-theoretic operations(intersection, union etc.)"
   ]
  },
  {
   "cell_type": "markdown",
   "id": "cb1909c5-a11d-43ce-9026-4ad3ec384d62",
   "metadata": {},
   "source": [
    "# Points\n",
    "A Point has an interior set of exactly one point, a boundary set of exactly no points, and exterior set of all other points. A Point has a topological dimension of 0."
   ]
  },
  {
   "cell_type": "code",
   "execution_count": 5,
   "id": "3d29f6e0-b67d-4eff-8518-b1b376d063f5",
   "metadata": {},
   "outputs": [
    {
     "name": "stderr",
     "output_type": "stream",
     "text": [
      "\n",
      "\n",
      "==> WARNING: A newer version of conda exists. <==\n",
      "  current version: 23.9.0\n",
      "  latest version: 23.11.0\n",
      "\n",
      "Please update conda by running\n",
      "\n",
      "    $ conda update -n base -c conda-forge conda\n",
      "\n",
      "Or to minimize the number of packages updated during conda update use\n",
      "\n",
      "     conda install conda=23.11.0\n",
      "\n",
      "\n"
     ]
    },
    {
     "name": "stdout",
     "output_type": "stream",
     "text": [
      "Collecting package metadata (current_repodata.json): ...working... done\n",
      "Solving environment: ...working... done\n",
      "\n",
      "## Package Plan ##\n",
      "\n",
      "  environment location: C:\\Users\\merve\\anaconda3\n",
      "\n",
      "  added / updated specs:\n",
      "    - shapely\n",
      "\n",
      "\n",
      "The following packages will be downloaded:\n",
      "\n",
      "    package                    |            build\n",
      "    ---------------------------|-----------------\n",
      "    geos-3.8.0                 |       h33f27b4_0         905 KB\n",
      "    shapely-2.0.1              |  py311h672afca_0         468 KB\n",
      "    ------------------------------------------------------------\n",
      "                                           Total:         1.3 MB\n",
      "\n",
      "The following NEW packages will be INSTALLED:\n",
      "\n",
      "  geos               pkgs/main/win-64::geos-3.8.0-h33f27b4_0 \n",
      "  shapely            pkgs/main/win-64::shapely-2.0.1-py311h672afca_0 \n",
      "\n",
      "\n",
      "\n",
      "Downloading and Extracting Packages: ...working... done\n",
      "Preparing transaction: ...working... done\n",
      "Verifying transaction: ...working... done\n",
      "Executing transaction: ...working... done\n"
     ]
    }
   ],
   "source": [
    "import sys\n",
    "!conda install --yes --prefix {sys.prefix} shapely"
   ]
  },
  {
   "cell_type": "markdown",
   "id": "5d8cf0fe-3393-40dc-998e-de2e1e6a3655",
   "metadata": {},
   "source": [
    "Let's load from Shapely the Point function, which enable us to create point geometry objects"
   ]
  },
  {
   "cell_type": "code",
   "execution_count": 7,
   "id": "14583bd8-aa20-4f33-b134-ea9a3039ad40",
   "metadata": {},
   "outputs": [
    {
     "name": "stdout",
     "output_type": "stream",
     "text": [
      "POINT (1.15 2.43)\n"
     ]
    }
   ],
   "source": [
    "from shapely.geometry import Point\n",
    "my_point = Point(1.15, 2.43)\n",
    "print(my_point)"
   ]
  },
  {
   "cell_type": "markdown",
   "id": "b41aed71-9264-49b1-98d8-1aeebb69f457",
   "metadata": {},
   "source": [
    "In Jupyter, we can also view the point in geographic space, which might help you understand the differences between points, lines and polygons more easily."
   ]
  },
  {
   "cell_type": "code",
   "execution_count": 9,
   "id": "8a5b7d3f-8323-4f0b-8bc6-3b0dade283ae",
   "metadata": {},
   "outputs": [
    {
     "data": {
      "image/svg+xml": [
       "<svg xmlns=\"http://www.w3.org/2000/svg\" xmlns:xlink=\"http://www.w3.org/1999/xlink\" width=\"100.0\" height=\"100.0\" viewBox=\"0.1499999999999999 1.4300000000000002 2.0 2.0\" preserveAspectRatio=\"xMinYMin meet\"><g transform=\"matrix(1,0,0,-1,0,4.86)\"><circle cx=\"1.15\" cy=\"2.43\" r=\"0.06\" stroke=\"#555555\" stroke-width=\"0.02\" fill=\"#66cc99\" opacity=\"0.6\" /></g></svg>"
      ],
      "text/plain": [
       "<POINT (1.15 2.43)>"
      ]
     },
     "execution_count": 9,
     "metadata": {},
     "output_type": "execute_result"
    }
   ],
   "source": [
    "# Example\n",
    "my_point = Point(1.15, 2.43)\n",
    "my_point"
   ]
  },
  {
   "cell_type": "markdown",
   "id": "1b5471aa-f35d-4a7c-9bf0-4cbae7815fac",
   "metadata": {},
   "source": [
    "Shapely allows us to check what type of geometry we have specified our object to be, using the .geom_type function (geom is short for geometry)"
   ]
  },
  {
   "cell_type": "code",
   "execution_count": 10,
   "id": "3cdbeb9d-52b6-4c9d-a4f3-e1191bc7b9a6",
   "metadata": {},
   "outputs": [
    {
     "data": {
      "text/plain": [
       "'Point'"
      ]
     },
     "execution_count": 10,
     "metadata": {},
     "output_type": "execute_result"
    }
   ],
   "source": [
    "# Example\n",
    "my_point.geom_type"
   ]
  },
  {
   "cell_type": "markdown",
   "id": "daa5abff-2768-46eb-b231-c85a976160f3",
   "metadata": {},
   "source": [
    "We can use this function repeatedly, to make lots of different Shapely geometry objects( let's try to create my_point2 from the coordinate x=2 and y=3)"
   ]
  },
  {
   "cell_type": "code",
   "execution_count": 11,
   "id": "553ed35d-9818-490c-9b2a-53abe0a9eae0",
   "metadata": {},
   "outputs": [
    {
     "name": "stdout",
     "output_type": "stream",
     "text": [
      "POINT (2 3)\n"
     ]
    }
   ],
   "source": [
    "# Example\n",
    "my_point2 = Point(2, 3)\n",
    "print(my_point2)"
   ]
  },
  {
   "cell_type": "markdown",
   "id": "550bbef9-6ac7-41de-9f08-7c9cc44ec682",
   "metadata": {},
   "source": [
    "Now we have two different points, we can used Shapelt to do very useful things, like measure the distance between them using the .distance() function"
   ]
  },
  {
   "cell_type": "code",
   "execution_count": 12,
   "id": "a7ba3c9c-85a8-403f-bee4-6d60923b3b1b",
   "metadata": {},
   "outputs": [
    {
     "data": {
      "text/plain": [
       "1.0234256201600582"
      ]
     },
     "execution_count": 12,
     "metadata": {},
     "output_type": "execute_result"
    }
   ],
   "source": [
    "# Example\n",
    "dist = my_point.distance(my_point2)\n",
    "dist"
   ]
  },
  {
   "cell_type": "markdown",
   "id": "cb21075e-d2f8-4040-8978-4eb69823c996",
   "metadata": {},
   "source": [
    "Althoug Shapely does a lot, the thing to remember is that it treats all geometry objects as being is the same coordinate reference system. So you need to remember that, otherwise you may produce erroneous results(e.g. the distance between a point in epsg:4326 and a point in WGS epsg:3857, will be completely wrong, as you're mixing coordinates measured in decimal degrees and meters)."
   ]
  },
  {
   "cell_type": "code",
   "execution_count": 13,
   "id": "383d34e8-069d-4f91-83fd-e17e6ff892dc",
   "metadata": {},
   "outputs": [
    {
     "name": "stdout",
     "output_type": "stream",
     "text": [
      "0.0 0.0\n"
     ]
    }
   ],
   "source": [
    "# Example\n",
    "print(my_point.area, my_point.length)"
   ]
  },
  {
   "cell_type": "markdown",
   "id": "8757252d-e313-4a61-b211-61f9efeede7a",
   "metadata": {},
   "source": [
    "Moreover, the x-y bounding box with be a tuple containing minx, miny, maxx, maxy."
   ]
  },
  {
   "cell_type": "code",
   "execution_count": 14,
   "id": "2a166ef7-ea6e-4e8b-b4fd-9522b84382d9",
   "metadata": {},
   "outputs": [
    {
     "name": "stdout",
     "output_type": "stream",
     "text": [
      "(1.15, 2.43, 1.15, 2.43)\n"
     ]
    }
   ],
   "source": [
    "# Example\n",
    "print(my_point.bounds)"
   ]
  },
  {
   "cell_type": "markdown",
   "id": "a334e52a-c87d-4f77-b1af-cbd0ea36d75b",
   "metadata": {},
   "source": [
    "If we need to, we can still access the underlying coordinates from our Shapely geometry object."
   ]
  },
  {
   "cell_type": "code",
   "execution_count": 16,
   "id": "8cca5e4c-a086-4103-aa08-cf7a9478209f",
   "metadata": {},
   "outputs": [
    {
     "name": "stdout",
     "output_type": "stream",
     "text": [
      "<shapely.coords.CoordinateSequence object at 0x000001D35CEB7690>\n",
      "[(1.15, 2.43)]\n"
     ]
    }
   ],
   "source": [
    "# Example\n",
    "print(my_point.coords)# Shapely geometry object\n",
    "print(list(my_point.coords)) # List of Shapely coodinates"
   ]
  },
  {
   "cell_type": "markdown",
   "id": "fc178d50-0b37-4205-936e-5c844d1c0801",
   "metadata": {},
   "source": [
    "### Exercises"
   ]
  },
  {
   "cell_type": "markdown",
   "id": "9be22039-f46f-4d28-b077-363da75481b0",
   "metadata": {},
   "source": [
    "Create a new set of points with the following coordinates, and print the geometry objects:\n",
    "     - x = 4, y = 8 (p1)\n",
    "     - x = 2, y = 4 (p2)"
   ]
  },
  {
   "cell_type": "code",
   "execution_count": 18,
   "id": "3745e3c2-1bad-4a8f-87b3-1c39d20350ca",
   "metadata": {},
   "outputs": [
    {
     "name": "stdout",
     "output_type": "stream",
     "text": [
      "POINT (4 8) POINT (2 4)\n"
     ]
    }
   ],
   "source": [
    "my_point = Point((4, 8))\n",
    "my_point2 = Point((2, 4))\n",
    "print(my_point, my_point2)"
   ]
  },
  {
   "cell_type": "code",
   "execution_count": 19,
   "id": "ec35d1c8-14a2-498e-982e-3004366eaa70",
   "metadata": {},
   "outputs": [
    {
     "name": "stdout",
     "output_type": "stream",
     "text": [
      "Point Point\n"
     ]
    }
   ],
   "source": [
    "# Check the geometry types of your objects:\n",
    "print(my_point.geom_type, my_point2.geom_type)"
   ]
  },
  {
   "cell_type": "code",
   "execution_count": 20,
   "id": "76196890-1aae-4139-ab9c-5b88d689dbd4",
   "metadata": {},
   "outputs": [
    {
     "name": "stdout",
     "output_type": "stream",
     "text": [
      "0.0 0.0\n",
      "0.0 0.0\n"
     ]
    }
   ],
   "source": [
    "# Can you confirm the area and length of your points?\n",
    "print(my_point.area, my_point2.area)\n",
    "print(my_point.length, my_point2.length)"
   ]
  },
  {
   "cell_type": "code",
   "execution_count": 22,
   "id": "fc5bc5e8-61ee-4a58-a05c-8fa76b9999f7",
   "metadata": {},
   "outputs": [
    {
     "name": "stdout",
     "output_type": "stream",
     "text": [
      "4.47213595499958\n"
     ]
    }
   ],
   "source": [
    "# Now try to distance between your two points:\n",
    "print(my_point.distance(my_point2))"
   ]
  },
  {
   "cell_type": "code",
   "execution_count": 23,
   "id": "4830eb57-7fb6-470b-b2de-7d93fb8fb6e1",
   "metadata": {},
   "outputs": [
    {
     "name": "stdout",
     "output_type": "stream",
     "text": [
      "(4.0, 8.0, 4.0, 8.0) (2.0, 4.0, 2.0, 4.0)\n"
     ]
    }
   ],
   "source": [
    "# Print the bounds of the two point and inspect the results:\n",
    "print(my_point.bounds, my_point2.bounds)"
   ]
  },
  {
   "cell_type": "code",
   "execution_count": null,
   "id": "fa3b75bf-129a-4b6f-b6ad-eae5dc2cd0f2",
   "metadata": {},
   "outputs": [],
   "source": []
  }
 ],
 "metadata": {
  "kernelspec": {
   "display_name": "Python 3 (ipykernel)",
   "language": "python",
   "name": "python3"
  },
  "language_info": {
   "codemirror_mode": {
    "name": "ipython",
    "version": 3
   },
   "file_extension": ".py",
   "mimetype": "text/x-python",
   "name": "python",
   "nbconvert_exporter": "python",
   "pygments_lexer": "ipython3",
   "version": "3.11.5"
  }
 },
 "nbformat": 4,
 "nbformat_minor": 5
}
