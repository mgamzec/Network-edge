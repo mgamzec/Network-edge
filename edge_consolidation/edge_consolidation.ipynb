{
 "cells": [
  {
   "cell_type": "code",
   "execution_count": 1,
   "metadata": {},
   "outputs": [],
   "source": [
    "from shapely.geometry import LineString, Polygon, MultiLineString\n",
    "from shapely.ops import triangulate, polygonize\n",
    "import shapely\n",
    "import geopandas as gpd\n",
    "from geopandas.array import from_shapely\n",
    "import numpy as np\n",
    "from scipy.spatial import Voronoi\n",
    "import pygeos"
   ]
  },
  {
   "cell_type": "code",
   "execution_count": 3,
   "metadata": {},
   "outputs": [],
   "source": [
    "realdf = gpd.read_file('/Users/merve/Document/Python/Jupyter/edges.geojson')\n",
    "realdf.to_file('/Users/merve/Document/Python/Jupyter/edges2.geojson', driver='GeoJSON')"
   ]
  },
  {
   "cell_type": "code",
   "execution_count": 2,
   "metadata": {},
   "outputs": [],
   "source": [
    "start = (0, 0)\n",
    "end = (5, 0)\n",
    "top = LineString([start, (1, 1), (2, 1), (3, 1), (4, 1), end])\n",
    "bottom = LineString([start, (1, -1), (2, -1), (3, -1), (4, -1), end])"
   ]
  },
  {
   "cell_type": "code",
   "execution_count": 95,
   "metadata": {},
   "outputs": [
    {
     "data": {
      "image/svg+xml": [
       "<svg xmlns=\"http://www.w3.org/2000/svg\" xmlns:xlink=\"http://www.w3.org/1999/xlink\" width=\"100.0\" height=\"100.0\" viewBox=\"-0.2 -0.2 5.4 1.4\" preserveAspectRatio=\"xMinYMin meet\"><g transform=\"matrix(1,0,0,-1,0,1.0)\"><polyline fill=\"none\" stroke=\"#66cc99\" stroke-width=\"0.10800000000000001\" points=\"0.0,0.0 1.0,1.0 2.0,1.0 3.0,1.0 4.0,1.0 5.0,0.0\" opacity=\"0.8\" /></g></svg>"
      ],
      "text/plain": [
       "<shapely.geometry.linestring.LineString at 0x128a234f0>"
      ]
     },
     "execution_count": 95,
     "metadata": {},
     "output_type": "execute_result"
    }
   ],
   "source": [
    "top"
   ]
  },
  {
   "cell_type": "code",
   "execution_count": 96,
   "metadata": {},
   "outputs": [
    {
     "data": {
      "image/svg+xml": [
       "<svg xmlns=\"http://www.w3.org/2000/svg\" xmlns:xlink=\"http://www.w3.org/1999/xlink\" width=\"100.0\" height=\"100.0\" viewBox=\"-0.2 -1.2 5.4 1.4\" preserveAspectRatio=\"xMinYMin meet\"><g transform=\"matrix(1,0,0,-1,0,-1.0)\"><polyline fill=\"none\" stroke=\"#66cc99\" stroke-width=\"0.10800000000000001\" points=\"0.0,0.0 1.0,-1.0 2.0,-1.0 3.0,-1.0 4.0,-1.0 5.0,0.0\" opacity=\"0.8\" /></g></svg>"
      ],
      "text/plain": [
       "<shapely.geometry.linestring.LineString at 0x128a23cd0>"
      ]
     },
     "execution_count": 96,
     "metadata": {},
     "output_type": "execute_result"
    }
   ],
   "source": [
    "bottom"
   ]
  },
  {
   "cell_type": "code",
   "execution_count": 12,
   "metadata": {},
   "outputs": [
    {
     "data": {
      "text/plain": [
       "'POINT (1.585786437626905 1)'"
      ]
     },
     "execution_count": 12,
     "metadata": {},
     "output_type": "execute_result"
    }
   ],
   "source": [
    "pt = top.interpolate(2)\n",
    "pt.wkt"
   ]
  },
  {
   "cell_type": "code",
   "execution_count": 14,
   "metadata": {},
   "outputs": [],
   "source": [
    "pt_b = bottom.interpolate(bottom.project(pt))"
   ]
  },
  {
   "cell_type": "code",
   "execution_count": 15,
   "metadata": {},
   "outputs": [
    {
     "data": {
      "text/plain": [
       "'POINT (0.2928932188134524 -0.2928932188134524)'"
      ]
     },
     "execution_count": 15,
     "metadata": {},
     "output_type": "execute_result"
    }
   ],
   "source": [
    "pt_b.wkt"
   ]
  },
  {
   "cell_type": "code",
   "execution_count": 17,
   "metadata": {},
   "outputs": [],
   "source": [
    "s = gpd.GeoSeries([top, bottom, pt, pt_b])"
   ]
  },
  {
   "cell_type": "code",
   "execution_count": 18,
   "metadata": {},
   "outputs": [
    {
     "data": {
      "text/plain": [
       "<matplotlib.axes._subplots.AxesSubplot at 0x1178a4b20>"
      ]
     },
     "execution_count": 18,
     "metadata": {},
     "output_type": "execute_result"
    },
    {
     "data": {
      "image/png": "[encoded data removed]",
      "text/plain": [
       "<Figure size 432x288 with 1 Axes>"
      ]
     },
     "metadata": {
      "needs_background": "light"
     },
     "output_type": "display_data"
    }
   ],
   "source": [
    "s.plot()"
   ]
  },
  {
   "cell_type": "code",
   "execution_count": 20,
   "metadata": {},
   "outputs": [],
   "source": [
    "c = LineString([pt, pt_b]).centroid"
   ]
  },
  {
   "cell_type": "code",
   "execution_count": 23,
   "metadata": {},
   "outputs": [],
   "source": [
    "s = gpd.GeoSeries([top, bottom, pt, pt_b, c])"
   ]
  },
  {
   "cell_type": "code",
   "execution_count": 24,
   "metadata": {},
   "outputs": [
    {
     "data": {
      "text/plain": [
       "<matplotlib.axes._subplots.AxesSubplot at 0x129613a30>"
      ]
     },
     "execution_count": 24,
     "metadata": {},
     "output_type": "execute_result"
    },
    {
     "data": {
      "image/png": "[encoded data removed]",
      "text/plain": [
       "<Figure size 432x288 with 1 Axes>"
      ]
     },
     "metadata": {
      "needs_background": "light"
     },
     "output_type": "display_data"
    }
   ],
   "source": [
    "s.plot()"
   ]
  },
  {
   "cell_type": "code",
   "execution_count": 97,
   "metadata": {},
   "outputs": [],
   "source": [
    "edges = gpd.GeoSeries(triangulate(top.union(bottom), edges=True))"
   ]
  },
  {
   "cell_type": "code",
   "execution_count": 98,
   "metadata": {},
   "outputs": [],
   "source": [
    "orig = gpd.GeoSeries([top, bottom])"
   ]
  },
  {
   "cell_type": "code",
   "execution_count": 40,
   "metadata": {},
   "outputs": [
    {
     "data": {
      "text/plain": [
       "<matplotlib.axes._subplots.AxesSubplot at 0x12b093970>"
      ]
     },
     "execution_count": 40,
     "metadata": {},
     "output_type": "execute_result"
    },
    {
     "data": {
      "image/png": "[encoded data removed]",
      "text/plain": [
       "<Figure size 432x288 with 1 Axes>"
      ]
     },
     "metadata": {
      "needs_background": "light"
     },
     "output_type": "display_data"
    }
   ],
   "source": [
    "edges.plot()"
   ]
  },
  {
   "cell_type": "code",
   "execution_count": 99,
   "metadata": {},
   "outputs": [],
   "source": [
    "cents = edges.centroid"
   ]
  },
  {
   "cell_type": "code",
   "execution_count": 42,
   "metadata": {},
   "outputs": [
    {
     "data": {
      "text/plain": [
       "<matplotlib.axes._subplots.AxesSubplot at 0x129685b80>"
      ]
     },
     "execution_count": 42,
     "metadata": {},
     "output_type": "execute_result"
    },
    {
     "data": {
      "image/png": "[encoded data removed]",
      "text/plain": [
       "<Figure size 432x288 with 1 Axes>"
      ]
     },
     "metadata": {
      "needs_background": "light"
     },
     "output_type": "display_data"
    }
   ],
   "source": [
    "cents.plot()"
   ]
  },
  {
   "cell_type": "code",
   "execution_count": 56,
   "metadata": {},
   "outputs": [
    {
     "data": {
      "text/plain": [
       "array([[0, 1, 2, 3, 4, 5, 6, 7, 8, 9],\n",
       "       [0, 0, 0, 0, 0, 1, 1, 1, 1, 1]])"
      ]
     },
     "execution_count": 56,
     "metadata": {},
     "output_type": "execute_result"
    }
   ],
   "source": [
    "orig.sindex.query_bulk(edges, predicate='within')"
   ]
  },
  {
   "cell_type": "code",
   "execution_count": 100,
   "metadata": {},
   "outputs": [],
   "source": [
    "axis = cents.drop(orig.sindex.query_bulk(cents, predicate='intersects')[0])"
   ]
  },
  {
   "cell_type": "code",
   "execution_count": 101,
   "metadata": {},
   "outputs": [
    {
     "data": {
      "text/plain": [
       "<matplotlib.axes._subplots.AxesSubplot at 0x128c12670>"
      ]
     },
     "execution_count": 101,
     "metadata": {},
     "output_type": "execute_result"
    },
    {
     "data": {
      "image/png": "[encoded data removed]",
      "text/plain": [
       "<Figure size 432x288 with 1 Axes>"
      ]
     },
     "metadata": {
      "needs_background": "light"
     },
     "output_type": "display_data"
    }
   ],
   "source": [
    "axis.plot()"
   ]
  },
  {
   "cell_type": "code",
   "execution_count": 104,
   "metadata": {},
   "outputs": [],
   "source": [
    "average = LineString([start] + [p for p in axis] + [end])"
   ]
  },
  {
   "cell_type": "code",
   "execution_count": 105,
   "metadata": {},
   "outputs": [],
   "source": [
    "av = gpd.GeoSeries(average)"
   ]
  },
  {
   "cell_type": "code",
   "execution_count": 107,
   "metadata": {},
   "outputs": [
    {
     "data": {
      "text/plain": [
       "<matplotlib.axes._subplots.AxesSubplot at 0x12a4d6820>"
      ]
     },
     "execution_count": 107,
     "metadata": {},
     "output_type": "execute_result"
    },
    {
     "data": {
      "image/png": "[encoded data removed]",
      "text/plain": [
       "<Figure size 432x288 with 1 Axes>"
      ]
     },
     "metadata": {
      "needs_background": "light"
     },
     "output_type": "display_data"
    }
   ],
   "source": [
    "ax = av.plot()\n",
    "orig.plot(ax=ax, color='r')"
   ]
  },
  {
   "cell_type": "markdown",
   "metadata": {},
   "source": [
    "## clean version"
   ]
  },
  {
   "cell_type": "code",
   "execution_count": 108,
   "metadata": {},
   "outputs": [],
   "source": [
    "start = (0, 0)\n",
    "end = (5, 0)\n",
    "top = LineString([start, (1, 1), (2, 1), (3, 1), (4, 1), end])\n",
    "bottom = LineString([start, (1, -1), (2, -1), (3, -1), (4, -1), end])\n",
    "orig = gpd.GeoSeries([top, bottom])"
   ]
  },
  {
   "cell_type": "code",
   "execution_count": 109,
   "metadata": {},
   "outputs": [],
   "source": [
    "centroids = gpd.GeoSeries(triangulate(top.union(bottom), edges=True)).centroid\n",
    "axis = centroids.drop(orig.sindex.query_bulk(centroids, predicate='intersects')[0])"
   ]
  },
  {
   "cell_type": "code",
   "execution_count": 110,
   "metadata": {},
   "outputs": [],
   "source": [
    "average = LineString([start] + [p for p in axis] + [end])"
   ]
  },
  {
   "cell_type": "code",
   "execution_count": 111,
   "metadata": {},
   "outputs": [
    {
     "data": {
      "text/plain": [
       "'LINESTRING (0 0, 4 0, 3.5 0, 3 0, 2.5 0, 2 0, 1.5 0, 1 0, 5 0)'"
      ]
     },
     "execution_count": 111,
     "metadata": {},
     "output_type": "execute_result"
    }
   ],
   "source": [
    "average.wkt"
   ]
  },
  {
   "cell_type": "code",
   "execution_count": 129,
   "metadata": {},
   "outputs": [
    {
     "name": "stdout",
     "output_type": "stream",
     "text": [
      "1.89 ms ± 43.4 µs per loop (mean ± std. dev. of 7 runs, 100 loops each)\n"
     ]
    }
   ],
   "source": [
    "%%timeit\n",
    "start = (0, 0)\n",
    "end = (5, 0)\n",
    "top = LineString([start, (1, 1), (2, 1), (3, 1), (4, 1), end])\n",
    "bottom = LineString([start, (1, -1), (2, -1), (3, -1), (4, -1), end])\n",
    "orig = gpd.GeoSeries([top, bottom])\n",
    "\n",
    "centroids = gpd.GeoSeries(triangulate(top.union(bottom), edges=True)).centroid\n",
    "axis = centroids.drop(orig.sindex.query_bulk(centroids, predicate='intersects')[0])\n",
    "\n",
    "average = LineString([start] + [p for p in axis] + [end])"
   ]
  },
  {
   "cell_type": "code",
   "execution_count": 116,
   "metadata": {},
   "outputs": [
    {
     "name": "stdout",
     "output_type": "stream",
     "text": [
      "316 µs ± 96.6 µs per loop (mean ± std. dev. of 7 runs, 1000 loops each)\n"
     ]
    }
   ],
   "source": [
    "%%timeit\n",
    "start = (0, 0)\n",
    "end = (5, 0)\n",
    "top = LineString([start, (1, 1),  (4, 1), end])\n",
    "bottom = LineString([start, (1, -1), (2, -1), (3, -1), (4, -1), end])\n",
    "orig = gpd.GeoSeries([top, bottom])\n"
   ]
  },
  {
   "cell_type": "code",
   "execution_count": 117,
   "metadata": {},
   "outputs": [
    {
     "name": "stdout",
     "output_type": "stream",
     "text": [
      "784 µs ± 71.8 µs per loop (mean ± std. dev. of 7 runs, 1000 loops each)\n"
     ]
    }
   ],
   "source": [
    "%%timeit\n",
    "centroids = gpd.GeoSeries(triangulate(top.union(bottom), edges=True)).centroid\n"
   ]
  },
  {
   "cell_type": "code",
   "execution_count": 118,
   "metadata": {},
   "outputs": [
    {
     "name": "stdout",
     "output_type": "stream",
     "text": [
      "646 µs ± 179 µs per loop (mean ± std. dev. of 7 runs, 1000 loops each)\n"
     ]
    }
   ],
   "source": [
    "%%timeit\n",
    "axis = centroids.drop(orig.sindex.query_bulk(centroids, predicate='intersects')[0])"
   ]
  },
  {
   "cell_type": "code",
   "execution_count": 119,
   "metadata": {},
   "outputs": [
    {
     "name": "stdout",
     "output_type": "stream",
     "text": [
      "138 µs ± 12.7 µs per loop (mean ± std. dev. of 7 runs, 10000 loops each)\n"
     ]
    }
   ],
   "source": [
    "%%timeit\n",
    "average = LineString([start] + [p for p in axis] + [end])"
   ]
  },
  {
   "cell_type": "code",
   "execution_count": 120,
   "metadata": {},
   "outputs": [],
   "source": [
    "start = (0, 0)\n",
    "end = (5, 0)\n",
    "top = LineString([start, (1, 1), (2, 1), (3, 1), (4, 1), end])\n",
    "bottom = LineString([start, (1, -1), (2, -1), (3, -1), (4, -1), end])\n",
    "orig = gpd.GeoSeries([top, bottom])\n",
    "\n",
    "centroids = gpd.GeoSeries(triangulate(top.union(bottom), edges=True)).centroid\n",
    "axis = centroids.drop(orig.sindex.query_bulk(centroids, predicate='intersects')[0])\n",
    "\n",
    "average = LineString([start] + [p for p in axis] + [end])"
   ]
  },
  {
   "cell_type": "code",
   "execution_count": 121,
   "metadata": {},
   "outputs": [],
   "source": [
    "union = top.union(bottom)"
   ]
  },
  {
   "cell_type": "code",
   "execution_count": 123,
   "metadata": {},
   "outputs": [
    {
     "data": {
      "text/plain": [
       "0      True\n",
       "1      True\n",
       "2      True\n",
       "3      True\n",
       "4      True\n",
       "5      True\n",
       "6      True\n",
       "7      True\n",
       "8      True\n",
       "9      True\n",
       "10    False\n",
       "11    False\n",
       "12    False\n",
       "13    False\n",
       "14    False\n",
       "15    False\n",
       "16    False\n",
       "dtype: bool"
      ]
     },
     "execution_count": 123,
     "metadata": {},
     "output_type": "execute_result"
    }
   ],
   "source": [
    "centroids.intersects(union)"
   ]
  },
  {
   "cell_type": "code",
   "execution_count": 124,
   "metadata": {},
   "outputs": [],
   "source": [
    "start = (0, 0)\n",
    "end = (5, 0)\n",
    "top = LineString([start, (1, 1), (2, 1), (3, 1), (4, 1), end])\n",
    "bottom = LineString([start, (1, -1), (2, -1), (3, -1), (4, -1), end])\n",
    "orig = top.union(bottom)\n",
    "\n",
    "centroids = gpd.GeoSeries(triangulate(orig, edges=True)).centroid\n",
    "axis = centroids[~centroids.intersects(orig)]\n",
    "\n",
    "average = LineString([start] + [p for p in axis] + [end])"
   ]
  },
  {
   "cell_type": "code",
   "execution_count": 128,
   "metadata": {},
   "outputs": [
    {
     "name": "stdout",
     "output_type": "stream",
     "text": [
      "1.97 ms ± 24.2 µs per loop (mean ± std. dev. of 7 runs, 100 loops each)\n"
     ]
    }
   ],
   "source": [
    "%%timeit\n",
    "start = (0, 0)\n",
    "end = (5, 0)\n",
    "top = LineString([start, (1, 1), (2, 1), (3, 1), (4, 1), end])\n",
    "bottom = LineString([start, (1, -1), (2, -1), (3, -1), (4, -1), end])\n",
    "orig = top.union(bottom)\n",
    "\n",
    "centroids = gpd.GeoSeries(triangulate(orig, edges=True)).centroid\n",
    "axis = centroids[~centroids.intersects(orig)]\n",
    "\n",
    "average = LineString([start] + [p for p in axis] + [end])"
   ]
  },
  {
   "cell_type": "code",
   "execution_count": 144,
   "metadata": {},
   "outputs": [
    {
     "name": "stdout",
     "output_type": "stream",
     "text": [
      "996 µs ± 29.1 µs per loop (mean ± std. dev. of 7 runs, 1000 loops each)\n"
     ]
    }
   ],
   "source": [
    "%%timeit\n",
    "start = (0, 0)\n",
    "end = (5, 0)\n",
    "top = LineString([start, (1, 1), (2, 1), (3, 1), (4, 1), end])\n",
    "bottom = LineString([start, (1, -1), (2, -1), (3, -1), (4, -1), end])\n",
    "orig = top.union(bottom)\n",
    "\n",
    "centroids = from_shapely(triangulate(orig, edges=True)).centroid\n",
    "axis = centroids[~centroids.intersects(orig)]\n",
    "\n",
    "average = LineString([start] + [p for p in axis] + [end])"
   ]
  },
  {
   "cell_type": "code",
   "execution_count": 145,
   "metadata": {},
   "outputs": [],
   "source": [
    "start = (0, 0)\n",
    "end = (5, 0)\n",
    "top = LineString([start, (1, 1), (2, 1), (3, 1), (4, 1), end])\n",
    "bottom = LineString([start, (1, -1), (2, -1), (3, -1), (4, -1), end])\n",
    "orig = top.union(bottom)\n",
    "\n",
    "centroids = from_shapely(triangulate(orig, edges=True)).centroid\n",
    "axis = centroids[~centroids.intersects(orig)]\n",
    "\n",
    "average = LineString([start] + [p for p in axis] + [end])"
   ]
  },
  {
   "cell_type": "code",
   "execution_count": 147,
   "metadata": {},
   "outputs": [],
   "source": [
    "def consolidate(start, end, line1, line2):\n",
    "    orig = line1.union(line2)\n",
    "\n",
    "    centroids = from_shapely(triangulate(orig, edges=True)).centroid\n",
    "    axis = centroids[~centroids.intersects(orig)]\n",
    "\n",
    "    return LineString([start] + [p for p in axis] + [end])"
   ]
  },
  {
   "cell_type": "code",
   "execution_count": 263,
   "metadata": {},
   "outputs": [],
   "source": [
    "start = (0, 0)\n",
    "end = (5, 0)\n",
    "top = LineString([start, (1, 3), (2, 2.5), (3, 1.2), (4.3, 1), end])\n",
    "bottom = LineString([start, (1, -1), (2, -1), (3, -1), (4, -1), end])"
   ]
  },
  {
   "cell_type": "code",
   "execution_count": 149,
   "metadata": {},
   "outputs": [
    {
     "data": {
      "image/svg+xml": [
       "<svg xmlns=\"http://www.w3.org/2000/svg\" xmlns:xlink=\"http://www.w3.org/1999/xlink\" width=\"100.0\" height=\"100.0\" viewBox=\"-0.2 -0.7 5.4 2.75\" preserveAspectRatio=\"xMinYMin meet\"><g transform=\"matrix(1,0,0,-1,0,1.3500000000000003)\"><polyline fill=\"none\" stroke=\"#66cc99\" stroke-width=\"0.10800000000000001\" points=\"0.0,0.0 4.65,0.5 3.15,1.7499999999999998 4.15,0.0 3.65,0.0 3.0,0.09999999999999998 3.6500000000000004,1.1 2.5,1.85 1.5000000000000002,0.6 1.0,1.25 2.5,0.09999999999999998 1.0,-0.5 5.0,0.0\" opacity=\"0.8\" /></g></svg>"
      ],
      "text/plain": [
       "<shapely.geometry.linestring.LineString at 0x12d371880>"
      ]
     },
     "execution_count": 149,
     "metadata": {},
     "output_type": "execute_result"
    }
   ],
   "source": [
    "consolidate(start, end, top, bottom)"
   ]
  },
  {
   "cell_type": "code",
   "execution_count": 262,
   "metadata": {},
   "outputs": [
    {
     "data": {
      "image/svg+xml": [
       "<svg xmlns=\"http://www.w3.org/2000/svg\" xmlns:xlink=\"http://www.w3.org/1999/xlink\" width=\"100.0\" height=\"100.0\" viewBox=\"-0.2 -0.2 5.4 1.4\" preserveAspectRatio=\"xMinYMin meet\"><g transform=\"matrix(1,0,0,-1,0,1.0)\"><polyline fill=\"none\" stroke=\"#66cc99\" stroke-width=\"0.10800000000000001\" points=\"0.0,0.0 1.0,1.0 2.0,1.0 3.0,1.0 4.0,1.0 5.0,0.0\" opacity=\"0.8\" /></g></svg>"
      ],
      "text/plain": [
       "<shapely.geometry.linestring.LineString at 0x12d67f670>"
      ]
     },
     "execution_count": 262,
     "metadata": {},
     "output_type": "execute_result"
    }
   ],
   "source": [
    "top"
   ]
  },
  {
   "cell_type": "code",
   "execution_count": 151,
   "metadata": {},
   "outputs": [
    {
     "data": {
      "image/svg+xml": [
       "<svg xmlns=\"http://www.w3.org/2000/svg\" xmlns:xlink=\"http://www.w3.org/1999/xlink\" width=\"100.0\" height=\"100.0\" viewBox=\"-0.2 -1.2 5.4 1.4\" preserveAspectRatio=\"xMinYMin meet\"><g transform=\"matrix(1,0,0,-1,0,-1.0)\"><polyline fill=\"none\" stroke=\"#66cc99\" stroke-width=\"0.10800000000000001\" points=\"0.0,0.0 1.0,-1.0 2.0,-1.0 3.0,-1.0 4.0,-1.0 5.0,0.0\" opacity=\"0.8\" /></g></svg>"
      ],
      "text/plain": [
       "<shapely.geometry.linestring.LineString at 0x129cf7a90>"
      ]
     },
     "execution_count": 151,
     "metadata": {},
     "output_type": "execute_result"
    }
   ],
   "source": [
    "bottom"
   ]
  },
  {
   "cell_type": "code",
   "execution_count": 165,
   "metadata": {},
   "outputs": [],
   "source": [
    "orig = top.union(bottom)\n",
    "\n",
    "centroids = from_shapely(triangulate(orig, edges=True)).centroid\n",
    "axis = centroids[~centroids.intersects(orig) & centroids.intersects(list(polygonize(orig))[0])]"
   ]
  },
  {
   "cell_type": "code",
   "execution_count": 172,
   "metadata": {},
   "outputs": [
    {
     "data": {
      "text/plain": [
       "<matplotlib.axes._subplots.AxesSubplot at 0x12d462580>"
      ]
     },
     "execution_count": 172,
     "metadata": {},
     "output_type": "execute_result"
    },
    {
     "data": {
      "image/png": "[encoded data removed]",
      "text/plain": [
       "<Figure size 432x288 with 1 Axes>"
      ]
     },
     "metadata": {
      "needs_background": "light"
     },
     "output_type": "display_data"
    }
   ],
   "source": [
    "ax = gpd.GeoSeries(triangulate(orig, edges=True)).plot()\n",
    "gpd.GeoSeries(axis).plot(ax=ax, color='r')"
   ]
  },
  {
   "cell_type": "code",
   "execution_count": 171,
   "metadata": {},
   "outputs": [
    {
     "data": {
      "text/plain": [
       "<matplotlib.axes._subplots.AxesSubplot at 0x12bad0520>"
      ]
     },
     "execution_count": 171,
     "metadata": {},
     "output_type": "execute_result"
    },
    {
     "data": {
      "text/plain": [
       "<Figure size 432x288 with 0 Axes>"
      ]
     },
     "metadata": {},
     "output_type": "display_data"
    }
   ],
   "source": []
  },
  {
   "cell_type": "code",
   "execution_count": 167,
   "metadata": {},
   "outputs": [
    {
     "data": {
      "image/svg+xml": [
       "<svg xmlns=\"http://www.w3.org/2000/svg\" xmlns:xlink=\"http://www.w3.org/1999/xlink\" width=\"100.0\" height=\"100.0\" viewBox=\"-0.2 -1.2 5.4 4.4\" preserveAspectRatio=\"xMinYMin meet\"><g transform=\"matrix(1,0,0,-1,0,2.0)\"><path fill-rule=\"evenodd\" fill=\"#66cc99\" stroke=\"#555555\" stroke-width=\"0.10800000000000001\" opacity=\"0.6\" d=\"M 0.0,0.0 L 1.0,3.0 L 2.0,2.5 L 3.0,1.2 L 4.3,1.0 L 5.0,0.0 L 4.0,-1.0 L 3.0,-1.0 L 2.0,-1.0 L 1.0,-1.0 L 0.0,0.0 z\" /></g></svg>"
      ],
      "text/plain": [
       "<shapely.geometry.polygon.Polygon at 0x12a73f850>"
      ]
     },
     "execution_count": 167,
     "metadata": {},
     "output_type": "execute_result"
    }
   ],
   "source": [
    "list(polygonize(orig))[0]"
   ]
  },
  {
   "cell_type": "markdown",
   "metadata": {},
   "source": [
    "## another approach"
   ]
  },
  {
   "cell_type": "code",
   "execution_count": 471,
   "metadata": {},
   "outputs": [],
   "source": [
    "distance = 1\n",
    "start = (0, 0)\n",
    "end = (5, 0)\n",
    "top = LineString([start, (1, 3), (2, 2.5), (3, 1.2), (4.3, 1), end])\n",
    "bottom = LineString([start, (1, -1), (2, -1), (3, -1), (4, -1), end])\n",
    "lines = [top, bottom]"
   ]
  },
  {
   "cell_type": "code",
   "execution_count": 452,
   "metadata": {},
   "outputs": [],
   "source": [
    "points = []\n",
    "ids = []\n",
    "\n",
    "extended_lines = [list(polygonize(lines))[0].buffer(distance).exterior] + lines\n",
    "\n",
    "for ix, line in enumerate(extended_lines):\n",
    "    current_dist = distance\n",
    "    line_length = line.length\n",
    "\n",
    "    while current_dist < line_length:\n",
    "        points.append(list(line.interpolate(current_dist).coords)[0])\n",
    "        ids.append(ix)\n",
    "        current_dist += distance"
   ]
  },
  {
   "cell_type": "code",
   "execution_count": 453,
   "metadata": {},
   "outputs": [],
   "source": [
    "voronoi_diagram = Voronoi(np.array(points))"
   ]
  },
  {
   "cell_type": "code",
   "execution_count": 229,
   "metadata": {},
   "outputs": [],
   "source": [
    "# generate regions\n",
    "def _regions(voronoi_diagram, ids):\n",
    "    \"\"\"\n",
    "    Generate GeoDataFrame of Voronoi regions from scipy.spatial.Voronoi.\n",
    "    \"\"\"\n",
    "    import pandas as pd\n",
    "    from shapely.geometry import Polygon\n",
    "\n",
    "    # generate DataFrame of results\n",
    "    regions = pd.DataFrame({'ids': ids, 'region': voronoi_diagram.point_region})\n",
    "\n",
    "    # add vertices of each polygon\n",
    "    vertices = []\n",
    "    for region in regions.region:\n",
    "        vertices.append(voronoi_diagram.regions[region])\n",
    "    regions[\"vertices\"] = vertices\n",
    "\n",
    "    # convert vertices to Polygons\n",
    "    polygons = []\n",
    "    for region in regions.vertices:\n",
    "        if -1 not in region:\n",
    "            polygons.append(Polygon(voronoi_diagram.vertices[region]))\n",
    "        else:\n",
    "            polygons.append(None)\n",
    "    # save polygons as geometry column\n",
    "    regions[\"geometry\"] = polygons\n",
    "\n",
    "    # generate GeoDataFrame\n",
    "    regions_gdf = gpd.GeoDataFrame(regions.dropna(), geometry=\"geometry\")\n",
    "    regions_gdf = regions_gdf.loc[\n",
    "        regions_gdf['ids'] != 0\n",
    "    ]  # delete external cells\n",
    "    return regions_gdf"
   ]
  },
  {
   "cell_type": "code",
   "execution_count": 455,
   "metadata": {},
   "outputs": [],
   "source": [
    "regions_gdf = _regions(voronoi_diagram, ids)\n",
    "tessellation = regions_gdf[[\"ids\", \"geometry\"]].dissolve(by=\"ids\", as_index=False)\n",
    "linestring = tessellation.geometry.exterior[0]\n",
    "clipped = linestring.intersection(list(polygonize(lines))[0])\n",
    "if hasattr(clipped, '__len__'):\n",
    "    lengths = []\n",
    "    for part in clipped:\n",
    "        lengths.append(part.length)\n",
    "    clipped = clipped[lengths.index(max(lengths))]\n",
    "coords = list(clipped.coords)\n",
    "coords[0] = end\n",
    "coords[-1] = start\n",
    "average = LineString(coords)"
   ]
  },
  {
   "cell_type": "code",
   "execution_count": 456,
   "metadata": {},
   "outputs": [
    {
     "data": {
      "text/plain": [
       "<matplotlib.axes._subplots.AxesSubplot at 0x1303028e0>"
      ]
     },
     "execution_count": 456,
     "metadata": {},
     "output_type": "execute_result"
    },
    {
     "data": {
      "image/png": "[encoded data removed]",
      "text/plain": [
       "<Figure size 432x288 with 1 Axes>"
      ]
     },
     "metadata": {
      "needs_background": "light"
     },
     "output_type": "display_data"
    }
   ],
   "source": [
    "ax = gpd.GeoSeries(average).plot()\n",
    "gpd.GeoSeries(orig).plot(ax=ax, color='r')"
   ]
  },
  {
   "cell_type": "code",
   "execution_count": 470,
   "metadata": {},
   "outputs": [
    {
     "data": {
      "text/plain": [
       "<matplotlib.axes._subplots.AxesSubplot at 0x1332d0760>"
      ]
     },
     "execution_count": 470,
     "metadata": {},
     "output_type": "execute_result"
    },
    {
     "data": {
      "image/png": "[encoded data removed]",
      "text/plain": [
       "<Figure size 432x288 with 1 Axes>"
      ]
     },
     "metadata": {
      "needs_background": "light"
     },
     "output_type": "display_data"
    }
   ],
   "source": [
    "distance = 1\n",
    "start = (0, 0)\n",
    "end = (5, 0)\n",
    "top = LineString([start, (1, 1), (2, 1), (3, 1), (4, 1), end])\n",
    "bottom = LineString([start, (1, -1), (2, -1), (3, -1), (4, -1), end])\n",
    "lines = [top, bottom]\n",
    "\n",
    "poly = list(polygonize(lines))[0]\n",
    "points = []\n",
    "ids = []\n",
    "\n",
    "extended_lines = [poly.buffer(distance).exterior] + lines\n",
    "\n",
    "for ix, line in enumerate(extended_lines):\n",
    "    current_dist = distance\n",
    "    line_length = line.length\n",
    "\n",
    "    while current_dist < line_length:\n",
    "        points.append(list(line.interpolate(current_dist).coords)[0])\n",
    "        ids.append(ix)\n",
    "        current_dist += distance\n",
    "\n",
    "voronoi_diagram = Voronoi(np.array(points))\n",
    "\n",
    "regions_gdf = _regions(voronoi_diagram, ids)\n",
    "tessellation = regions_gdf[[\"ids\", \"geometry\"]].dissolve(by=\"ids\", as_index=False)\n",
    "linestring = tessellation.geometry.exterior[0]\n",
    "clipped = linestring.intersection(poly)\n",
    "if hasattr(clipped, '__len__'):\n",
    "    lengths = []\n",
    "    for part in clipped:\n",
    "        lengths.append(part.length)\n",
    "    clipped = clipped[lengths.index(max(lengths))]\n",
    "coords = list(clipped.coords)\n",
    "coords[0] = end\n",
    "coords[-1] = start\n",
    "average = LineString(coords)\n",
    "\n",
    "ax = gpd.GeoSeries(lines).plot(color='r')\n",
    "gpd.GeoSeries(average).plot(ax=ax)\n"
   ]
  },
  {
   "cell_type": "code",
   "execution_count": 472,
   "metadata": {},
   "outputs": [
    {
     "name": "stdout",
     "output_type": "stream",
     "text": [
      "22.3 ms ± 337 µs per loop (mean ± std. dev. of 7 runs, 10 loops each)\n"
     ]
    }
   ],
   "source": [
    "%%timeit\n",
    "\n",
    "poly = list(polygonize(lines))[0]\n",
    "points = []\n",
    "ids = []\n",
    "\n",
    "extended_lines = [poly.buffer(distance).exterior] + lines\n",
    "\n",
    "for ix, line in enumerate(extended_lines):\n",
    "    current_dist = distance\n",
    "    line_length = line.length\n",
    "\n",
    "    while current_dist < line_length:\n",
    "        points.append(list(line.interpolate(current_dist).coords)[0])\n",
    "        ids.append(ix)\n",
    "        current_dist += distance\n",
    "\n",
    "voronoi_diagram = Voronoi(np.array(points))\n",
    "\n",
    "regions_gdf = _regions(voronoi_diagram, ids)\n",
    "tessellation = regions_gdf[[\"ids\", \"geometry\"]].dissolve(by=\"ids\", as_index=False)\n",
    "linestring = tessellation.geometry.exterior[0]\n",
    "clipped = linestring.intersection(poly)\n",
    "if hasattr(clipped, '__len__'):\n",
    "    lengths = []\n",
    "    for part in clipped:\n",
    "        lengths.append(part.length)\n",
    "    clipped = clipped[lengths.index(max(lengths))]\n",
    "coords = list(clipped.coords)\n",
    "coords[0] = end\n",
    "coords[-1] = start\n",
    "average = LineString(coords)"
   ]
  },
  {
   "cell_type": "code",
   "execution_count": 473,
   "metadata": {},
   "outputs": [],
   "source": [
    "polygons = []\n",
    "for point_region in voronoi_diagram.point_region:\n",
    "    region = voronoi_diagram.regions[point_region]\n",
    "    if -1 not in region:\n",
    "        polygons.append(Polygon(voronoi_diagram.vertices[region]))\n",
    "    else:\n",
    "        polygons.append(None)"
   ]
  },
  {
   "cell_type": "code",
   "execution_count": 483,
   "metadata": {},
   "outputs": [
    {
     "data": {
      "image/svg+xml": [
       "<svg xmlns=\"http://www.w3.org/2000/svg\" xmlns:xlink=\"http://www.w3.org/1999/xlink\" width=\"100.0\" height=\"100.0\" viewBox=\"-0.24919796515140274 -0.20636609208842577 5.5718844863874954 2.0272556666524197\" preserveAspectRatio=\"xMinYMin meet\"><g transform=\"matrix(1,0,0,-1,0,1.614523482475568)\"><polyline fill=\"none\" stroke=\"#66cc99\" stroke-width=\"0.11143768972774991\" points=\"4.237499933207152,1.2678930852277572 4.331442318208224,1.280486018754476 5.064185473657881,0.7280881851489126 5.116320429147667,0.030344170978790275 5.10013238199036,0.0 3.6035533905932735,0.0 3.085786437626905,0.0 2.0857864376269046,0.0 1.4309644062711508,0.0 0.0004402470253619395,1.1102230246251565e-16 -0.04283187306297698,0.14747595138299852 0.21720035761886924,1.0973618550409823 0.9149214894707098,1.3753753291912947 0.9814893563858217,1.3484251496559871 1.7305380699108404,1.614523482475568 2.085786437626905,1.3854765175244317 2.7305380699108404,1.614523482475568 3.085786437626905,1.385476517524432 3.719062072322486,1.610446653064392 4.237499933207152,1.2678930852277572\" opacity=\"0.8\" /></g></svg>"
      ],
      "text/plain": [
       "<shapely.geometry.polygon.LinearRing at 0x134827700>"
      ]
     },
     "execution_count": 483,
     "metadata": {},
     "output_type": "execute_result"
    }
   ],
   "source": [
    "from_shapely(polygons)[np.array(ids) == 1].unary_union().exterior"
   ]
  },
  {
   "cell_type": "code",
   "execution_count": 508,
   "metadata": {},
   "outputs": [
    {
     "name": "stdout",
     "output_type": "stream",
     "text": [
      "4.26 ms ± 70.1 µs per loop (mean ± std. dev. of 7 runs, 100 loops each)\n"
     ]
    }
   ],
   "source": [
    "%%timeit\n",
    "\n",
    "poly = list(polygonize(lines))[0]\n",
    "points = []\n",
    "ids = []\n",
    "\n",
    "extended_lines = [poly.buffer(distance).exterior] + lines\n",
    "\n",
    "for ix, line in enumerate(extended_lines):\n",
    "    current_dist = distance\n",
    "    line_length = line.length\n",
    "\n",
    "    while current_dist < line_length:\n",
    "        points.append(list(line.interpolate(current_dist).coords)[0])\n",
    "        ids.append(ix)\n",
    "        current_dist += distance\n",
    "\n",
    "voronoi_diagram = Voronoi(np.array(points))\n",
    "\n",
    "polygons = []\n",
    "for point_region in voronoi_diagram.point_region:\n",
    "    region = voronoi_diagram.regions[point_region]\n",
    "    if -1 not in region:\n",
    "        polygons.append(Polygon(voronoi_diagram.vertices[region]))\n",
    "    else:\n",
    "        polygons.append(None)\n",
    "\n",
    "linestring = from_shapely(polygons)[np.array(ids) == 1].unary_union().exterior\n",
    "\n",
    "clipped = linestring.intersection(poly)\n",
    "if hasattr(clipped, '__len__'):\n",
    "    lengths = [part.length for part in clipped]\n",
    "    clipped = clipped[lengths.index(max(lengths))]\n",
    "coords = list(clipped.coords)\n",
    "coords[0] = end\n",
    "coords[-1] = start\n",
    "average = LineString(coords)"
   ]
  },
  {
   "cell_type": "code",
   "execution_count": 502,
   "metadata": {},
   "outputs": [
    {
     "name": "stdout",
     "output_type": "stream",
     "text": [
      "116 µs ± 38.8 µs per loop (mean ± std. dev. of 7 runs, 10000 loops each)\n"
     ]
    }
   ],
   "source": [
    "%%timeit\n",
    "poly = list(polygonize(lines))[0]\n",
    "points = []\n",
    "ids = []"
   ]
  },
  {
   "cell_type": "code",
   "execution_count": 503,
   "metadata": {},
   "outputs": [
    {
     "name": "stdout",
     "output_type": "stream",
     "text": [
      "110 µs ± 67.6 µs per loop (mean ± std. dev. of 7 runs, 1000 loops each)\n"
     ]
    }
   ],
   "source": [
    "%%timeit\n",
    "extended_lines = [poly.buffer(distance).exterior] + lines"
   ]
  },
  {
   "cell_type": "code",
   "execution_count": 504,
   "metadata": {},
   "outputs": [
    {
     "name": "stdout",
     "output_type": "stream",
     "text": [
      "1.29 ms ± 87 µs per loop (mean ± std. dev. of 7 runs, 100 loops each)\n"
     ]
    }
   ],
   "source": [
    "%%timeit\n",
    "for ix, line in enumerate(extended_lines):\n",
    "    current_dist = distance\n",
    "    line_length = line.length\n",
    "\n",
    "    while current_dist < line_length:\n",
    "        points.append(list(line.interpolate(current_dist).coords)[0])\n",
    "        ids.append(ix)\n",
    "        current_dist += distance"
   ]
  },
  {
   "cell_type": "code",
   "execution_count": 511,
   "metadata": {},
   "outputs": [
    {
     "name": "stdout",
     "output_type": "stream",
     "text": [
      "693 µs ± 26 µs per loop (mean ± std. dev. of 7 runs, 1000 loops each)\n"
     ]
    }
   ],
   "source": [
    "%%timeit\n",
    "voronoi_diagram = Voronoi(np.array(points))"
   ]
  },
  {
   "cell_type": "code",
   "execution_count": 513,
   "metadata": {},
   "outputs": [
    {
     "name": "stdout",
     "output_type": "stream",
     "text": [
      "406 µs ± 35.2 µs per loop (mean ± std. dev. of 7 runs, 1000 loops each)\n"
     ]
    }
   ],
   "source": [
    "%%timeit\n",
    "polygons = []\n",
    "for point_region in voronoi_diagram.point_region:\n",
    "    region = voronoi_diagram.regions[point_region]\n",
    "    if -1 not in region:\n",
    "        polygons.append(Polygon(voronoi_diagram.vertices[region]))\n",
    "    else:\n",
    "        polygons.append(None)\n"
   ]
  },
  {
   "cell_type": "code",
   "execution_count": 515,
   "metadata": {},
   "outputs": [
    {
     "name": "stdout",
     "output_type": "stream",
     "text": [
      "1.69 ms ± 458 µs per loop (mean ± std. dev. of 7 runs, 100 loops each)\n"
     ]
    }
   ],
   "source": [
    "%%timeit\n",
    "linestring = from_shapely(polygons)[np.array(ids) == 1].unary_union().exterior"
   ]
  },
  {
   "cell_type": "code",
   "execution_count": 517,
   "metadata": {},
   "outputs": [
    {
     "name": "stdout",
     "output_type": "stream",
     "text": [
      "150 µs ± 11.5 µs per loop (mean ± std. dev. of 7 runs, 10000 loops each)\n"
     ]
    }
   ],
   "source": [
    "%%timeit\n",
    "clipped = linestring.intersection(poly)"
   ]
  },
  {
   "cell_type": "code",
   "execution_count": 522,
   "metadata": {},
   "outputs": [
    {
     "name": "stdout",
     "output_type": "stream",
     "text": [
      "143 µs ± 3.87 µs per loop (mean ± std. dev. of 7 runs, 1000 loops each)\n"
     ]
    }
   ],
   "source": [
    "%%timeit\n",
    "clipped = linestring.intersection(poly)\n",
    "if hasattr(clipped, '__len__'):\n",
    "    lengths = [part.length for part in clipped]\n",
    "    clipped = clipped[lengths.index(max(lengths))]"
   ]
  },
  {
   "cell_type": "code",
   "execution_count": 523,
   "metadata": {},
   "outputs": [
    {
     "name": "stdout",
     "output_type": "stream",
     "text": [
      "29.2 µs ± 8.06 µs per loop (mean ± std. dev. of 7 runs, 10000 loops each)\n"
     ]
    }
   ],
   "source": [
    "%%timeit\n",
    "coords = list(clipped.coords)\n",
    "coords[0] = end\n",
    "coords[-1] = start\n",
    "average = LineString(coords)"
   ]
  },
  {
   "cell_type": "code",
   "execution_count": 527,
   "metadata": {},
   "outputs": [],
   "source": [
    "import pygeos"
   ]
  },
  {
   "cell_type": "code",
   "execution_count": 528,
   "metadata": {},
   "outputs": [],
   "source": [
    "py_line = pygeos.io.from_shapely(line)"
   ]
  },
  {
   "cell_type": "code",
   "execution_count": 529,
   "metadata": {},
   "outputs": [
    {
     "data": {
      "text/plain": [
       "array([<pygeos.Geometry POINT (0.707 -0.707)>,\n",
       "       <pygeos.Geometry POINT (1.59 -1)>,\n",
       "       <pygeos.Geometry POINT (2.59 -1)>,\n",
       "       <pygeos.Geometry POINT (3.59 -1)>,\n",
       "       <pygeos.Geometry POINT (4.41 -0.586)>], dtype=object)"
      ]
     },
     "execution_count": 529,
     "metadata": {},
     "output_type": "execute_result"
    }
   ],
   "source": [
    "pygeos.linear.line_interpolate_point(py_line, [1, 2, 3, 4, 5])"
   ]
  },
  {
   "cell_type": "code",
   "execution_count": 530,
   "metadata": {},
   "outputs": [
    {
     "data": {
      "text/plain": [
       "[<shapely.geometry.polygon.LinearRing at 0x134b96c70>,\n",
       " <shapely.geometry.linestring.LineString at 0x1332e36a0>,\n",
       " <shapely.geometry.linestring.LineString at 0x1332e3730>]"
      ]
     },
     "execution_count": 530,
     "metadata": {},
     "output_type": "execute_result"
    }
   ],
   "source": [
    "extended_lines"
   ]
  },
  {
   "cell_type": "code",
   "execution_count": 537,
   "metadata": {},
   "outputs": [
    {
     "data": {
      "text/plain": [
       "array([0.        , 1.45710678, 2.91421356, 4.37132034, 5.82842712])"
      ]
     },
     "execution_count": 537,
     "metadata": {},
     "output_type": "execute_result"
    }
   ],
   "source": [
    "np.linspace(0, line.length, num=int(line.length//1))"
   ]
  },
  {
   "cell_type": "code",
   "execution_count": 535,
   "metadata": {},
   "outputs": [
    {
     "data": {
      "text/plain": [
       "3"
      ]
     },
     "execution_count": 535,
     "metadata": {},
     "output_type": "execute_result"
    }
   ],
   "source": [
    "pygeos.linear.line_interpolate_point(py_line, [1, 2, 3, 4, 5])"
   ]
  },
  {
   "cell_type": "code",
   "execution_count": 597,
   "metadata": {},
   "outputs": [
    {
     "name": "stdout",
     "output_type": "stream",
     "text": [
      "1.25 ms ± 298 µs per loop (mean ± std. dev. of 7 runs, 100 loops each)\n"
     ]
    }
   ],
   "source": [
    "%%timeit\n",
    "points = []\n",
    "ids = []\n",
    "for ix, line in enumerate(extended_lines):\n",
    "    current_dist = distance\n",
    "    line_length = line.length\n",
    "\n",
    "    while current_dist < line_length:\n",
    "        points.append(list(line.interpolate(current_dist).coords)[0])\n",
    "        ids.append(ix)\n",
    "        current_dist += distance"
   ]
  },
  {
   "cell_type": "code",
   "execution_count": 609,
   "metadata": {},
   "outputs": [
    {
     "name": "stdout",
     "output_type": "stream",
     "text": [
      "333 µs ± 88 µs per loop (mean ± std. dev. of 7 runs, 1000 loops each)\n"
     ]
    }
   ],
   "source": [
    "%%timeit\n",
    "points = np.empty((0, 2))\n",
    "ids = []\n",
    "pygeos_lines = pygeos.io.from_shapely(extended_lines)\n",
    "lengths = pygeos.measurement.length(pygeos_lines)\n",
    "for ix, (line, length) in enumerate(zip(pygeos_lines, lengths)):\n",
    "    pts = pygeos.linear.line_interpolate_point(line, \n",
    "        np.linspace(0, length, num=int(length//distance))\n",
    "        )\n",
    "    points = np.append(points, pygeos.coordinates.get_coordinates(pts), axis=0)\n",
    "    ids += [ix] * len(pts)"
   ]
  },
  {
   "cell_type": "code",
   "execution_count": 170,
   "metadata": {},
   "outputs": [
    {
     "name": "stdout",
     "output_type": "stream",
     "text": [
      "2.89 ms ± 464 µs per loop (mean ± std. dev. of 7 runs, 100 loops each)\n"
     ]
    }
   ],
   "source": [
    "%%timeit\n",
    "\n",
    "distance = 1\n",
    "start = (0, 0)\n",
    "end = (5, 0)\n",
    "top = LineString([start, (1, 1), (2, 1), (3, 1), (4, 1), end])\n",
    "bottom = LineString([start, (1, -1), (2, -1), (3, -1), (4, -1), end])\n",
    "lines = [top, bottom]\n",
    "\n",
    "poly = list(polygonize(lines))[0]\n",
    "\n",
    "extended_lines = [poly.buffer(distance).exterior] + lines\n",
    "\n",
    "points = np.empty((0, 2))\n",
    "ids = []\n",
    "\n",
    "pygeos_lines = pygeos.io.from_shapely(extended_lines)\n",
    "lengths = pygeos.measurement.length(pygeos_lines)\n",
    "for ix, (line, length) in enumerate(zip(pygeos_lines, lengths)):\n",
    "    pts = pygeos.linear.line_interpolate_point(line, \n",
    "        np.linspace(0, length, num=int(length//distance))\n",
    "        )\n",
    "    points = np.append(points, pygeos.coordinates.get_coordinates(pts), axis=0)\n",
    "    ids += [ix] * len(pts)\n",
    "\n",
    "voronoi_diagram = Voronoi(np.array(points))\n",
    "\n",
    "polygons = []\n",
    "for point_region in voronoi_diagram.point_region:\n",
    "    region = voronoi_diagram.regions[point_region]\n",
    "    if -1 not in region:\n",
    "        polygons.append(Polygon(voronoi_diagram.vertices[region]))\n",
    "    else:\n",
    "        polygons.append(None)\n",
    "\n",
    "linestring = from_shapely(polygons)[np.array(ids) == 1].unary_union().exterior\n",
    "\n",
    "clipped = linestring.intersection(poly)\n",
    "if hasattr(clipped, '__len__'):\n",
    "    lengths = [part.length for part in clipped]\n",
    "    clipped = clipped[lengths.index(max(lengths))]\n",
    "coords = list(clipped.coords)\n",
    "coords[0] = end\n",
    "coords[-1] = start\n",
    "average = LineString(coords)"
   ]
  },
  {
   "cell_type": "code",
   "execution_count": 47,
   "metadata": {},
   "outputs": [],
   "source": [
    "distance = 1\n",
    "start = (0, 0)\n",
    "end = (5, 0)\n",
    "top = LineString([start, (1, 1), (2, 1), (3, 1), (4, 1), end])\n",
    "bottom = LineString([start, (1, -1), (2, -1), (3, -1), (4, -1), end])\n",
    "lines = [top, bottom]\n",
    "\n",
    "poly = list(polygonize(lines))[0]\n",
    "\n",
    "extended_lines = [poly.buffer(distance).exterior] + lines\n",
    "\n",
    "points = np.empty((0, 2))\n",
    "ids = []\n",
    "\n",
    "pygeos_lines = pygeos.io.from_shapely(extended_lines)\n",
    "lengths = pygeos.measurement.length(pygeos_lines)\n",
    "for ix, (line, length) in enumerate(zip(pygeos_lines, lengths)):\n",
    "    pts = pygeos.linear.line_interpolate_point(line, \n",
    "        np.linspace(0, length, num=int(length//distance))\n",
    "        )\n",
    "    points = np.append(points, pygeos.coordinates.get_coordinates(pts), axis=0)\n",
    "    ids += [ix] * len(pts)\n",
    "\n",
    "voronoi_diagram = Voronoi(np.array(points))"
   ]
  },
  {
   "cell_type": "code",
   "execution_count": 88,
   "metadata": {},
   "outputs": [
    {
     "data": {
      "text/plain": [
       "[[-1, 0],\n",
       " [0, 4],\n",
       " [-1, 4],\n",
       " [-1, 2],\n",
       " [2, 6],\n",
       " [-1, 6],\n",
       " [1, 5],\n",
       " [-1, 1],\n",
       " [-1, 5],\n",
       " [8, 11],\n",
       " [8, 10],\n",
       " [9, 12],\n",
       " [9, 10],\n",
       " [11, 13],\n",
       " [12, 13],\n",
       " [-1, 10],\n",
       " [2, 8],\n",
       " [-1, 9],\n",
       " [-1, 12],\n",
       " [-1, 7],\n",
       " [7, 13],\n",
       " [-1, 15],\n",
       " [-1, 14],\n",
       " [14, 16],\n",
       " [15, 16],\n",
       " [7, 15],\n",
       " [0, 3],\n",
       " [3, 14],\n",
       " [17, 20],\n",
       " [17, 18],\n",
       " [20, 21],\n",
       " [19, 21],\n",
       " [18, 19],\n",
       " [1, 17],\n",
       " [-1, 18],\n",
       " [3, 20],\n",
       " [16, 21],\n",
       " [6, 19],\n",
       " [11, 21],\n",
       " [22, 25],\n",
       " [22, 23],\n",
       " [23, 27],\n",
       " [24, 26],\n",
       " [24, 25],\n",
       " [26, 27],\n",
       " [4, 22],\n",
       " [-1, 25],\n",
       " [20, 23],\n",
       " [5, 27],\n",
       " [-1, 24],\n",
       " [-1, 26]]"
      ]
     },
     "execution_count": 88,
     "metadata": {},
     "output_type": "execute_result"
    }
   ],
   "source": [
    "voronoi_diagram.ridge_vertices"
   ]
  },
  {
   "cell_type": "code",
   "execution_count": 62,
   "metadata": {},
   "outputs": [
    {
     "data": {
      "text/plain": [
       "array([[11, 12],\n",
       "       [11, 25],\n",
       "       [11, 10],\n",
       "       [ 3,  2],\n",
       "       [ 3, 18],\n",
       "       [ 3,  4],\n",
       "       [ 6, 20],\n",
       "       [ 6,  5],\n",
       "       [ 6,  7],\n",
       "       [22, 18],\n",
       "       [22,  2],\n",
       "       [22,  0],\n",
       "       [22,  1],\n",
       "       [22, 23],\n",
       "       [22, 15],\n",
       "       [ 2,  1],\n",
       "       [ 2, 18],\n",
       "       [ 0,  1],\n",
       "       [ 0, 15],\n",
       "       [15, 14],\n",
       "       [15, 23],\n",
       "       [13, 14],\n",
       "       [13, 12],\n",
       "       [13, 24],\n",
       "       [13, 23],\n",
       "       [14, 23],\n",
       "       [12, 25],\n",
       "       [12, 24],\n",
       "       [19, 20],\n",
       "       [19,  5],\n",
       "       [19, 24],\n",
       "       [19, 18],\n",
       "       [19,  4],\n",
       "       [ 5, 20],\n",
       "       [ 5,  4],\n",
       "       [24, 25],\n",
       "       [24, 23],\n",
       "       [18,  4],\n",
       "       [18, 23],\n",
       "       [26, 10],\n",
       "       [26, 25],\n",
       "       [26, 20],\n",
       "       [26,  8],\n",
       "       [26,  9],\n",
       "       [26,  7],\n",
       "       [10, 25],\n",
       "       [10,  9],\n",
       "       [25, 20],\n",
       "       [20,  7],\n",
       "       [ 8,  9],\n",
       "       [ 8,  7]], dtype=int32)"
      ]
     },
     "execution_count": 62,
     "metadata": {},
     "output_type": "execute_result"
    }
   ],
   "source": [
    "pts = voronoi_diagram.ridge_points\n",
    "pts"
   ]
  },
  {
   "cell_type": "code",
   "execution_count": 126,
   "metadata": {},
   "outputs": [],
   "source": [
    "def f(row):\n",
    "    if (ids.index(1) <= row[0] <  ids.index(2)) and (row[1] >=  ids.index(2)):\n",
    "        return True\n",
    "    if (ids.index(1) <= row[1] <  ids.index(2)) and (row[0] >=  ids.index(2)):\n",
    "        return True\n",
    "    return False"
   ]
  },
  {
   "cell_type": "code",
   "execution_count": 137,
   "metadata": {},
   "outputs": [],
   "source": [
    "def test(row):\n",
    "    a = ids[row[0]]\n",
    "    b = ids[row[1]]\n",
    "    if a in [1, 2] and b in [1, 2] and a != b:\n",
    "        return True\n",
    "    return False    "
   ]
  },
  {
   "cell_type": "code",
   "execution_count": 139,
   "metadata": {},
   "outputs": [
    {
     "data": {
      "text/plain": [
       "array([False, False, False, False, False, False, False, False, False,\n",
       "        True, False, False, False, False, False, False, False, False,\n",
       "       False, False, False, False, False, False, False, False, False,\n",
       "       False, False, False,  True, False, False, False, False, False,\n",
       "       False, False,  True, False, False,  True, False, False, False,\n",
       "       False, False,  True, False, False, False])"
      ]
     },
     "execution_count": 139,
     "metadata": {},
     "output_type": "execute_result"
    }
   ],
   "source": [
    "mask = np.apply_along_axis(test, 1, pts)\n",
    "mask"
   ]
  },
  {
   "cell_type": "code",
   "execution_count": 140,
   "metadata": {},
   "outputs": [],
   "source": [
    "rigde_vertices = np.array(voronoi_diagram.ridge_vertices)\n",
    "verts = rigde_vertices[mask]"
   ]
  },
  {
   "cell_type": "code",
   "execution_count": 141,
   "metadata": {},
   "outputs": [],
   "source": [
    "lss = []\n",
    "for f, l in verts:\n",
    "    lss.append(LineString([voronoi_diagram.vertices[f], voronoi_diagram.vertices[l]]))"
   ]
  },
  {
   "cell_type": "code",
   "execution_count": 143,
   "metadata": {},
   "outputs": [
    {
     "data": {
      "image/svg+xml": [
       "<svg xmlns=\"http://www.w3.org/2000/svg\" xmlns:xlink=\"http://www.w3.org/1999/xlink\" width=\"100.0\" height=\"100.0\" viewBox=\"0.17267903255066605 -0.17429518882466202 4.705970098265869 1.0840762415072622\" preserveAspectRatio=\"xMinYMin meet\"><g transform=\"matrix(1,0,0,-1,0,0.7354858638579381)\"><polyline fill=\"none\" stroke=\"#66cc99\" stroke-width=\"0.09411940196531737\" points=\"0.34697422137532785,0.6819560703481348 1.0008820789065405,0.0 1.771446609406726,-2.220446049250313e-16 3.228553390593273,0.0 3.9991179210934593,0.0 4.704353941991873,0.7354858638579383\" opacity=\"0.8\" /></g></svg>"
      ],
      "text/plain": [
       "<shapely.geometry.linestring.LineString at 0x121ecbd30>"
      ]
     },
     "execution_count": 143,
     "metadata": {},
     "output_type": "execute_result"
    }
   ],
   "source": [
    "linemerge(lss)"
   ]
  },
  {
   "cell_type": "code",
   "execution_count": 144,
   "metadata": {},
   "outputs": [],
   "source": [
    "coords = list(linemerge(lss).coords)\n",
    "coords[0] = end\n",
    "coords[-1] = start\n",
    "average = LineString(coords)"
   ]
  },
  {
   "cell_type": "code",
   "execution_count": 145,
   "metadata": {},
   "outputs": [
    {
     "data": {
      "image/svg+xml": [
       "<svg xmlns=\"http://www.w3.org/2000/svg\" xmlns:xlink=\"http://www.w3.org/1999/xlink\" width=\"100.0\" height=\"100.0\" viewBox=\"-0.2 -0.20000000000000023 5.4 0.40000000000000024\" preserveAspectRatio=\"xMinYMin meet\"><g transform=\"matrix(1,0,0,-1,0,-2.220446049250313e-16)\"><polyline fill=\"none\" stroke=\"#66cc99\" stroke-width=\"0.10800000000000001\" points=\"5.0,0.0 1.0008820789065405,0.0 1.771446609406726,-2.220446049250313e-16 3.228553390593273,0.0 3.9991179210934593,0.0 0.0,0.0\" opacity=\"0.8\" /></g></svg>"
      ],
      "text/plain": [
       "<shapely.geometry.linestring.LineString at 0x121e55e80>"
      ]
     },
     "execution_count": 145,
     "metadata": {},
     "output_type": "execute_result"
    }
   ],
   "source": [
    "average"
   ]
  },
  {
   "cell_type": "code",
   "execution_count": 165,
   "metadata": {},
   "outputs": [],
   "source": [
    "def edge(row): \n",
    "    a = ids[row[0]]\n",
    "    b = ids[row[1]]\n",
    "    if a in [1, 2] and b in [1, 2] and a != b:\n",
    "        return True\n",
    "    return False  "
   ]
  },
  {
   "cell_type": "code",
   "execution_count": 192,
   "metadata": {},
   "outputs": [
    {
     "name": "stdout",
     "output_type": "stream",
     "text": [
      "2.46 ms ± 262 µs per loop (mean ± std. dev. of 7 runs, 100 loops each)\n"
     ]
    }
   ],
   "source": [
    "%%timeit\n",
    "\n",
    "distance = 1\n",
    "start = (0, 0)\n",
    "end = (5, 0)\n",
    "top = LineString([start, (1, 3), (2, 2.5), (3, 1.2), (4.3, 1), end])\n",
    "bottom = LineString([start, (1, -1), (2, -1), (3, -1), (4, -1), end])\n",
    "lines = [top, bottom]\n",
    "\n",
    "poly = list(polygonize(lines))[0]\n",
    "\n",
    "extended_lines = [poly.buffer(distance).exterior] + lines\n",
    "\n",
    "points = np.empty((0, 2))\n",
    "ids = []\n",
    "\n",
    "pygeos_lines = pygeos.io.from_shapely(extended_lines)\n",
    "lengths = pygeos.measurement.length(pygeos_lines)\n",
    "for ix, (line, length) in enumerate(zip(pygeos_lines, lengths)):\n",
    "    pts = pygeos.linear.line_interpolate_point(line, \n",
    "        np.linspace(0, length, num=int(length//distance))\n",
    "        )\n",
    "    points = np.append(points, pygeos.coordinates.get_coordinates(pts), axis=0)\n",
    "    ids += [ix] * len(pts)\n",
    "\n",
    "voronoi_diagram = Voronoi(np.array(points))\n",
    "\n",
    "pts = voronoi_diagram.ridge_points\n",
    "\n",
    "mask = np.apply_along_axis(edge, axis=1, arr=pts)\n",
    "rigde_vertices = np.array(voronoi_diagram.ridge_vertices)\n",
    "verts = rigde_vertices[mask]\n",
    "\n",
    "edgeline = linemerge([LineString([voronoi_diagram.vertices[f], voronoi_diagram.vertices[l]]) for f, l in verts])\n",
    "if hasattr(edgeline, '__len__'):\n",
    "    lengths = [part.length for part in edgeline]\n",
    "    edgeline = edgeline[lengths.index(max(lengths))]\n",
    "coords = list(edgeline.coords)\n",
    "coords[0] = end\n",
    "coords[-1] = start\n",
    "average = LineString(coords)"
   ]
  },
  {
   "cell_type": "code",
   "execution_count": 187,
   "metadata": {},
   "outputs": [
    {
     "data": {
      "image/svg+xml": [
       "<svg xmlns=\"http://www.w3.org/2000/svg\" xmlns:xlink=\"http://www.w3.org/1999/xlink\" width=\"100.0\" height=\"100.0\" viewBox=\"-0.2 -0.22797463279663638 5.4 0.8236731551167618\" preserveAspectRatio=\"xMinYMin meet\"><g transform=\"matrix(1,0,0,-1,0,0.36772388952348906)\"><polyline fill=\"none\" stroke=\"#66cc99\" stroke-width=\"0.10800000000000001\" points=\"5.0,0.0 3.97806558865857,0.02195533473655309 3.553022986316233,0.09674918196636484 3.2285533905932735,-0.027974632796636367 1.771446609406726,0.38505711494923256 1.7602605914494638,0.3956985223201255 1.2211026809627277,0.22966657252741365 0.0,0.0\" opacity=\"0.8\" /></g></svg>"
      ],
      "text/plain": [
       "<shapely.geometry.linestring.LineString at 0x118c09a90>"
      ]
     },
     "execution_count": 187,
     "metadata": {},
     "output_type": "execute_result"
    }
   ],
   "source": []
  },
  {
   "cell_type": "code",
   "execution_count": 193,
   "metadata": {},
   "outputs": [
    {
     "name": "stdout",
     "output_type": "stream",
     "text": [
      "2.34 ms ± 340 µs per loop (mean ± std. dev. of 7 runs, 100 loops each)\n"
     ]
    }
   ],
   "source": [
    "%%timeit\n",
    "\n",
    "distance = 1\n",
    "start = (0, 0)\n",
    "end = (5, 0)\n",
    "top = LineString([start, (1, 3), (2, 2.5), (3, 1.2), (4.3, 1), end])\n",
    "bottom = LineString([start, (1, -1), (2, -1), (3, -1), (4, -1), end])\n",
    "lines = [top, bottom]\n",
    "\n",
    "poly = list(polygonize(lines))[0]\n",
    "\n",
    "extended_lines = [poly.buffer(distance).exterior] + lines\n",
    "\n",
    "points = np.empty((0, 2))\n",
    "ids = []\n",
    "\n",
    "pygeos_lines = pygeos.from_shapely(extended_lines)\n",
    "lengths = pygeos.measurement.length(pygeos_lines)\n",
    "for ix, (line, length) in enumerate(zip(pygeos_lines, lengths)):\n",
    "    pts = pygeos.linear.line_interpolate_point(line, \n",
    "        np.linspace(0, length, num=int(length//distance))\n",
    "        )\n",
    "    points = np.append(points, pygeos.get_coordinates(pts), axis=0)\n",
    "    ids += [ix] * len(pts)\n",
    "\n",
    "voronoi_diagram = Voronoi(np.array(points))\n",
    "\n",
    "pts = voronoi_diagram.ridge_points\n",
    "\n",
    "mask = np.apply_along_axis(edge, axis=1, arr=pts)\n",
    "rigde_vertices = np.array(voronoi_diagram.ridge_vertices)\n",
    "verts = rigde_vertices[mask]\n",
    "\n",
    "strings = pygeos.linestrings([[voronoi_diagram.vertices[f], voronoi_diagram.vertices[l]] for f, l in verts])\n",
    "edgeline = pygeos.line_merge(pygeos.union_all(strings))\n",
    "\n",
    "\n",
    "coords = list(pygeos.get_coordinates(edgeline))\n",
    "coords[0] = end\n",
    "coords[-1] = start\n",
    "average = LineString(coords)"
   ]
  },
  {
   "cell_type": "code",
   "execution_count": 199,
   "metadata": {},
   "outputs": [],
   "source": [
    "realdf = gpd.read_file('/Users/martin/Dropbox/Python/Jupyter/edges.geojson').to_crs(5514)"
   ]
  },
  {
   "cell_type": "code",
   "execution_count": 264,
   "metadata": {},
   "outputs": [],
   "source": [
    "top = realdf.loc[0, 'geometry']\n",
    "bottom = realdf.loc[1, 'geometry']\n",
    "start = top.coords[0]\n",
    "end = top.coords[-1]\n",
    "distance = 2"
   ]
  },
  {
   "cell_type": "code",
   "execution_count": 223,
   "metadata": {},
   "outputs": [
    {
     "name": "stdout",
     "output_type": "stream",
     "text": [
      "308 ms ± 106 ms per loop (mean ± std. dev. of 7 runs, 1 loop each)\n"
     ]
    }
   ],
   "source": [
    "%%timeit\n",
    "# FULL PYGEOS\n",
    "lines = [top, bottom]\n",
    "\n",
    "poly = list(polygonize(lines))[0]\n",
    "\n",
    "extended_lines = [poly.buffer(distance).exterior] + lines\n",
    "\n",
    "points = np.empty((0, 2))\n",
    "ids = []\n",
    "\n",
    "pygeos_lines = pygeos.from_shapely(extended_lines)\n",
    "lengths = pygeos.measurement.length(pygeos_lines)\n",
    "for ix, (line, length) in enumerate(zip(pygeos_lines, lengths)):\n",
    "    pts = pygeos.linear.line_interpolate_point(line, \n",
    "        np.linspace(0, length, num=int(length//distance))\n",
    "        )\n",
    "    points = np.append(points, pygeos.get_coordinates(pts), axis=0)\n",
    "    ids += [ix] * len(pts)\n",
    "\n",
    "voronoi_diagram = Voronoi(np.array(points))\n",
    "\n",
    "pts = voronoi_diagram.ridge_points\n",
    "\n",
    "mask = np.apply_along_axis(edge, axis=1, arr=pts)\n",
    "rigde_vertices = np.array(voronoi_diagram.ridge_vertices)\n",
    "verts = rigde_vertices[mask]\n",
    "\n",
    "strings = pygeos.linestrings([[voronoi_diagram.vertices[f], voronoi_diagram.vertices[l]] for f, l in verts])\n",
    "edgeline = pygeos.line_merge(pygeos.union_all(strings))\n",
    "\n",
    "\n",
    "coords = list(pygeos.get_coordinates(edgeline))\n",
    "# resolve start/end join\n",
    "coords[0] = start\n",
    "coords[-1] = end\n",
    "average = LineString(coords)"
   ]
  },
  {
   "cell_type": "code",
   "execution_count": 224,
   "metadata": {},
   "outputs": [
    {
     "name": "stdout",
     "output_type": "stream",
     "text": [
      "295 ms ± 16.7 ms per loop (mean ± std. dev. of 7 runs, 1 loop each)\n"
     ]
    }
   ],
   "source": [
    "%%timeit\n",
    "# PYGEOS INTERPOLATE + SHAPELY LINEMERGE\n",
    "lines = [top, bottom]\n",
    "\n",
    "poly = list(polygonize(lines))[0]\n",
    "\n",
    "extended_lines = [poly.buffer(distance).exterior] + lines\n",
    "\n",
    "points = np.empty((0, 2))\n",
    "ids = []\n",
    "\n",
    "pygeos_lines = pygeos.io.from_shapely(extended_lines)\n",
    "lengths = pygeos.measurement.length(pygeos_lines)\n",
    "for ix, (line, length) in enumerate(zip(pygeos_lines, lengths)):\n",
    "    pts = pygeos.linear.line_interpolate_point(line, \n",
    "        np.linspace(0, length, num=int(length//distance))\n",
    "        )\n",
    "    points = np.append(points, pygeos.coordinates.get_coordinates(pts), axis=0)\n",
    "    ids += [ix] * len(pts)\n",
    "\n",
    "voronoi_diagram = Voronoi(np.array(points))\n",
    "\n",
    "pts = voronoi_diagram.ridge_points\n",
    "\n",
    "mask = np.apply_along_axis(edge, axis=1, arr=pts)\n",
    "rigde_vertices = np.array(voronoi_diagram.ridge_vertices)\n",
    "verts = rigde_vertices[mask]\n",
    "\n",
    "edgeline = linemerge([LineString([voronoi_diagram.vertices[f], voronoi_diagram.vertices[l]]) for f, l in verts])\n",
    "if hasattr(edgeline, '__len__'):\n",
    "    lengths = [part.length for part in edgeline]\n",
    "    edgeline = edgeline[lengths.index(max(lengths))]\n",
    "coords = list(edgeline.coords)\n",
    "coords[0] = end\n",
    "coords[-1] = start\n",
    "average = LineString(coords)"
   ]
  },
  {
   "cell_type": "code",
   "execution_count": 227,
   "metadata": {},
   "outputs": [
    {
     "name": "stdout",
     "output_type": "stream",
     "text": [
      "533 ms ± 54.4 ms per loop (mean ± std. dev. of 7 runs, 1 loop each)\n"
     ]
    }
   ],
   "source": [
    "%%timeit\n",
    "# PYGEOS INTERPOLATE + SHAPELY INTERSECTION\n",
    "lines = [top, bottom]\n",
    "\n",
    "poly = list(polygonize(lines))[0]\n",
    "\n",
    "extended_lines = [poly.buffer(distance).exterior] + lines\n",
    "\n",
    "points = np.empty((0, 2))\n",
    "ids = []\n",
    "\n",
    "pygeos_lines = pygeos.io.from_shapely(extended_lines)\n",
    "lengths = pygeos.measurement.length(pygeos_lines)\n",
    "for ix, (line, length) in enumerate(zip(pygeos_lines, lengths)):\n",
    "    pts = pygeos.linear.line_interpolate_point(line, \n",
    "        np.linspace(0, length, num=int(length//distance))\n",
    "        )\n",
    "    points = np.append(points, pygeos.coordinates.get_coordinates(pts), axis=0)\n",
    "    ids += [ix] * len(pts)\n",
    "\n",
    "voronoi_diagram = Voronoi(np.array(points))\n",
    "\n",
    "polygons = []\n",
    "for point_region in voronoi_diagram.point_region:\n",
    "    region = voronoi_diagram.regions[point_region]\n",
    "    if -1 not in region:\n",
    "        polygons.append(Polygon(voronoi_diagram.vertices[region]))\n",
    "    else:\n",
    "        polygons.append(None)\n",
    "\n",
    "linestring = from_shapely(polygons)[np.array(ids) == 1].unary_union().exterior\n",
    "\n",
    "clipped = linestring.intersection(poly)\n",
    "if hasattr(clipped, '__len__'):\n",
    "    lengths = [part.length for part in clipped]\n",
    "    clipped = clipped[lengths.index(max(lengths))]\n",
    "coords = list(clipped.coords)\n",
    "coords[0] = end\n",
    "coords[-1] = start\n",
    "average = LineString(coords)"
   ]
  },
  {
   "cell_type": "code",
   "execution_count": 228,
   "metadata": {},
   "outputs": [
    {
     "name": "stdout",
     "output_type": "stream",
     "text": [
      "716 ms ± 44.6 ms per loop (mean ± std. dev. of 7 runs, 1 loop each)\n"
     ]
    }
   ],
   "source": [
    "%%timeit\n",
    "# SHAPELY INTERPOLATE + SHAPELY INTERSECTION\n",
    "lines = [top, bottom]\n",
    "\n",
    "poly = list(polygonize(lines))[0]\n",
    "points = []\n",
    "ids = []\n",
    "\n",
    "extended_lines = [poly.buffer(distance).exterior] + lines\n",
    "\n",
    "for ix, line in enumerate(extended_lines):\n",
    "    current_dist = distance\n",
    "    line_length = line.length\n",
    "\n",
    "    while current_dist < line_length:\n",
    "        points.append(list(line.interpolate(current_dist).coords)[0])\n",
    "        ids.append(ix)\n",
    "        current_dist += distance\n",
    "\n",
    "voronoi_diagram = Voronoi(np.array(points))\n",
    "\n",
    "polygons = []\n",
    "for point_region in voronoi_diagram.point_region:\n",
    "    region = voronoi_diagram.regions[point_region]\n",
    "    if -1 not in region:\n",
    "        polygons.append(Polygon(voronoi_diagram.vertices[region]))\n",
    "    else:\n",
    "        polygons.append(None)\n",
    "\n",
    "linestring = from_shapely(polygons)[np.array(ids) == 1].unary_union().exterior\n",
    "\n",
    "clipped = linestring.intersection(poly)\n",
    "if hasattr(clipped, '__len__'):\n",
    "    lengths = [part.length for part in clipped]\n",
    "    clipped = clipped[lengths.index(max(lengths))]\n",
    "coords = list(clipped.coords)\n",
    "coords[0] = end\n",
    "coords[-1] = start\n",
    "average = LineString(coords)"
   ]
  },
  {
   "cell_type": "code",
   "execution_count": 230,
   "metadata": {},
   "outputs": [
    {
     "name": "stdout",
     "output_type": "stream",
     "text": [
      "1.16 s ± 148 ms per loop (mean ± std. dev. of 7 runs, 1 loop each)\n"
     ]
    }
   ],
   "source": [
    "%%timeit\n",
    "# SHAPELY INTERPOLATE + SHAPELY INTERSECTION + GEOPANDAS\n",
    "lines = [top, bottom]\n",
    "\n",
    "poly = list(polygonize(lines))[0]\n",
    "points = []\n",
    "ids = []\n",
    "\n",
    "extended_lines = [poly.buffer(distance).exterior] + lines\n",
    "\n",
    "for ix, line in enumerate(extended_lines):\n",
    "    current_dist = distance\n",
    "    line_length = line.length\n",
    "\n",
    "    while current_dist < line_length:\n",
    "        points.append(list(line.interpolate(current_dist).coords)[0])\n",
    "        ids.append(ix)\n",
    "        current_dist += distance\n",
    "\n",
    "voronoi_diagram = Voronoi(np.array(points))\n",
    "\n",
    "regions_gdf = _regions(voronoi_diagram, ids)\n",
    "tessellation = regions_gdf[[\"ids\", \"geometry\"]].dissolve(by=\"ids\", as_index=False)\n",
    "linestring = tessellation.geometry.exterior[0]\n",
    "clipped = linestring.intersection(poly)\n",
    "if hasattr(clipped, '__len__'):\n",
    "    lengths = []\n",
    "    for part in clipped:\n",
    "        lengths.append(part.length)\n",
    "    clipped = clipped[lengths.index(max(lengths))]\n",
    "coords = list(clipped.coords)\n",
    "coords[0] = end\n",
    "coords[-1] = start\n",
    "average = LineString(coords)"
   ]
  },
  {
   "cell_type": "code",
   "execution_count": 232,
   "metadata": {},
   "outputs": [],
   "source": [
    "lines = [top, bottom]\n",
    "\n",
    "poly = list(polygonize(lines))[0]\n",
    "\n",
    "extended_lines = [poly.buffer(distance).exterior] + lines"
   ]
  },
  {
   "cell_type": "code",
   "execution_count": 233,
   "metadata": {},
   "outputs": [
    {
     "name": "stdout",
     "output_type": "stream",
     "text": [
      "33.4 ms ± 11.6 ms per loop (mean ± std. dev. of 7 runs, 10 loops each)\n"
     ]
    }
   ],
   "source": [
    "%%timeit\n",
    "points = np.empty((0, 2))\n",
    "ids = []\n",
    "\n",
    "pygeos_lines = pygeos.io.from_shapely(extended_lines)\n",
    "lengths = pygeos.measurement.length(pygeos_lines)\n",
    "for ix, (line, length) in enumerate(zip(pygeos_lines, lengths)):\n",
    "    pts = pygeos.linear.line_interpolate_point(line, \n",
    "        np.linspace(0, length, num=int(length//distance))\n",
    "        )\n",
    "    points = np.append(points, pygeos.coordinates.get_coordinates(pts), axis=0)\n",
    "    ids += [ix] * len(pts)"
   ]
  },
  {
   "cell_type": "code",
   "execution_count": 234,
   "metadata": {},
   "outputs": [
    {
     "name": "stdout",
     "output_type": "stream",
     "text": [
      "397 ms ± 200 ms per loop (mean ± std. dev. of 7 runs, 1 loop each)\n"
     ]
    }
   ],
   "source": [
    "%%timeit\n",
    "points = []\n",
    "ids = []\n",
    "\n",
    "for ix, line in enumerate(extended_lines):\n",
    "    current_dist = distance\n",
    "    line_length = line.length\n",
    "\n",
    "    while current_dist < line_length:\n",
    "        points.append(list(line.interpolate(current_dist).coords)[0])\n",
    "        ids.append(ix)\n",
    "        current_dist += distance"
   ]
  },
  {
   "cell_type": "code",
   "execution_count": 371,
   "metadata": {},
   "outputs": [],
   "source": [
    "# helper functions\n",
    "def get_ids(x):\n",
    "    return ids[x]\n",
    "mp = np.vectorize(get_ids)\n",
    "\n",
    "def dist(p1, p2):\n",
    "    return np.sqrt(((p1[0]-p2[0])**2)+((p1[1]-p2[1])**2))\n",
    "\n",
    "def get_verts(x):\n",
    "    return voronoi_diagram.vertices[x]"
   ]
  },
  {
   "cell_type": "code",
   "execution_count": 277,
   "metadata": {},
   "outputs": [
    {
     "name": "stdout",
     "output_type": "stream",
     "text": [
      "274 ms ± 27.1 ms per loop (mean ± std. dev. of 7 runs, 1 loop each)\n"
     ]
    }
   ],
   "source": [
    "%%timeit\n",
    "# PYGEOS INTERPOLATE + SHAPELY LINEMERGE = OPTIMUM\n",
    "lines = [top, bottom]\n",
    "\n",
    "poly = list(polygonize(lines))[0]\n",
    "\n",
    "extended_lines = [poly.buffer(distance).exterior] + lines\n",
    "\n",
    "points = []\n",
    "ids = []\n",
    "\n",
    "pygeos_lines = pygeos.from_shapely(extended_lines)\n",
    "lengths = pygeos.length(pygeos_lines)\n",
    "for ix, (line, length) in enumerate(zip(pygeos_lines, lengths)):\n",
    "    pts = pygeos.line_interpolate_point(\n",
    "        line, np.linspace(0, length, num=int(length // distance))\n",
    "    )\n",
    "    points.append(pygeos.get_coordinates(pts))\n",
    "    ids += [ix] * len(pts)\n",
    "\n",
    "voronoi_diagram = Voronoi(np.concatenate(points))\n",
    "\n",
    "pts = voronoi_diagram.ridge_points\n",
    "\n",
    "mask = np.apply_along_axis(edge, axis=1, arr=pts)\n",
    "rigde_vertices = np.array(voronoi_diagram.ridge_vertices)\n",
    "verts = rigde_vertices[mask]\n",
    "\n",
    "edgeline = linemerge(\n",
    "    [\n",
    "        LineString([voronoi_diagram.vertices[f], voronoi_diagram.vertices[l]])\n",
    "        for f, l in verts\n",
    "    ]\n",
    ")\n",
    "if hasattr(edgeline, \"__len__\"):\n",
    "    lengths = [part.length for part in edgeline]\n",
    "    edgeline = edgeline[lengths.index(max(lengths))]\n",
    "coords = list(edgeline.coords)\n",
    "\n",
    "if dist(coords[0], start) > dist(coords[0], end):\n",
    "    coords[0] = end\n",
    "    coords[-1] = start\n",
    "else:\n",
    "    coords[0] = start\n",
    "    coords[-1] = end\n",
    "average = LineString(coords)\n"
   ]
  },
  {
   "cell_type": "code",
   "execution_count": 305,
   "metadata": {},
   "outputs": [
    {
     "name": "stdout",
     "output_type": "stream",
     "text": [
      "213 ms ± 37.5 ms per loop (mean ± std. dev. of 7 runs, 1 loop each)\n"
     ]
    }
   ],
   "source": [
    "%%timeit\n",
    "edgeline = linemerge(\n",
    "    [\n",
    "        LineString([voronoi_diagram.vertices[f], voronoi_diagram.vertices[l]])\n",
    "        for f, l in verts\n",
    "    ]\n",
    ")"
   ]
  },
  {
   "cell_type": "code",
   "execution_count": 301,
   "metadata": {},
   "outputs": [
    {
     "name": "stdout",
     "output_type": "stream",
     "text": [
      "77.9 ms ± 21 ms per loop (mean ± std. dev. of 7 runs, 10 loops each)\n"
     ]
    }
   ],
   "source": [
    "%%timeit\n",
    "strings = pygeos.linestrings([[voronoi_diagram.vertices[f], voronoi_diagram.vertices[l]] for f, l in verts])\n",
    "edgeline = pygeos.line_merge(pygeos.union_all(strings))"
   ]
  },
  {
   "cell_type": "code",
   "execution_count": 296,
   "metadata": {},
   "outputs": [],
   "source": [
    "def get_verts(x):\n",
    "    return voronoi_diagram.vertices[x]"
   ]
  },
  {
   "cell_type": "code",
   "execution_count": 304,
   "metadata": {},
   "outputs": [
    {
     "name": "stdout",
     "output_type": "stream",
     "text": [
      "48.7 ms ± 7.48 ms per loop (mean ± std. dev. of 7 runs, 10 loops each)\n"
     ]
    }
   ],
   "source": [
    "%%timeit\n",
    "strings = pygeos.linestrings(get_verts(verts))\n",
    "edgeline = pygeos.line_merge(pygeos.union_all(strings))"
   ]
  },
  {
   "cell_type": "code",
   "execution_count": null,
   "metadata": {},
   "outputs": [],
   "source": [
    "# helper functions\n",
    "def get_ids(x):\n",
    "    return ids[x]\n",
    "mp = np.vectorize(get_ids)\n",
    "\n",
    "def dist(p1, p2):\n",
    "    return np.sqrt(((p1[0]-p2[0])**2)+((p1[1]-p2[1])**2))\n",
    "\n",
    "def get_verts(x):\n",
    "    return voronoi_diagram.vertices[x]"
   ]
  },
  {
   "cell_type": "code",
   "execution_count": 401,
   "metadata": {},
   "outputs": [
    {
     "name": "stdout",
     "output_type": "stream",
     "text": [
      "131 ms ± 31.2 ms per loop (mean ± std. dev. of 7 runs, 1 loop each)\n"
     ]
    }
   ],
   "source": [
    "%%timeit\n",
    "# FULL PYGEOS - SUPER PERFORMANCE\n",
    "lines = [top, bottom]\n",
    "\n",
    "poly = list(polygonize(lines))[0]\n",
    "\n",
    "extended_lines = [poly.buffer(distance).exterior] + lines\n",
    "\n",
    "points = np.empty((0, 2))\n",
    "ids = []\n",
    "\n",
    "pygeos_lines = pygeos.from_shapely(extended_lines)\n",
    "lengths = pygeos.length(pygeos_lines)\n",
    "for ix, (line, length) in enumerate(zip(pygeos_lines, lengths)):\n",
    "    pts = pygeos.line_interpolate_point(line, \n",
    "        np.linspace(0, length, num=int(length//distance))\n",
    "        )\n",
    "    points = np.append(points, pygeos.get_coordinates(pts), axis=0)\n",
    "    ids += [ix] * len(pts)\n",
    "\n",
    "voronoi_diagram = Voronoi(points)\n",
    "\n",
    "pts = voronoi_diagram.ridge_points\n",
    "\n",
    "mapped = mp(pts)\n",
    "mask = np.isin(mapped[:, 0], [1, 2]) & np.isin(mapped[:, 1], [1, 2]) & (mapped[:, 0] != mapped[:, 1])\n",
    "rigde_vertices = np.array(voronoi_diagram.ridge_vertices)\n",
    "verts = rigde_vertices[mask]\n",
    "\n",
    "edgeline = pygeos.line_merge(pygeos.multilinestrings(get_verts(verts)))\n",
    "coords = pygeos.get_coordinates(edgeline)\n",
    "if dist(coords[0], start) > dist(coords[0], end):\n",
    "    coords[0] = end\n",
    "    coords[-1] = start\n",
    "else:\n",
    "    coords[0] = start\n",
    "    coords[-1] = end\n",
    "average = LineString(coords)"
   ]
  },
  {
   "cell_type": "code",
   "execution_count": 1,
   "metadata": {},
   "outputs": [],
   "source": [
    "import itertools"
   ]
  },
  {
   "cell_type": "code",
   "execution_count": 4,
   "metadata": {},
   "outputs": [
    {
     "data": {
      "text/plain": [
       "[(0, 1), (0, 2), (0, 3), (1, 2), (1, 3), (2, 3)]"
      ]
     },
     "execution_count": 4,
     "metadata": {},
     "output_type": "execute_result"
    }
   ],
   "source": [
    "list(itertools.combinations(range(4), 2))"
   ]
  },
  {
   "cell_type": "code",
   "execution_count": null,
   "metadata": {},
   "outputs": [],
   "source": []
  }
 ],
 "metadata": {
  "kernelspec": {
   "display_name": "geo_dev",
   "name": "geo_dev"
  },
  "language_info": {
   "codemirror_mode": {
    "name": "ipython",
    "version": 3
   },
   "file_extension": ".py",
   "mimetype": "text/x-python",
   "name": "python",
   "nbconvert_exporter": "python",
   "pygments_lexer": "ipython3",
   "version": "3.8.2-final"
  },
  "orig_nbformat": 2
 },
 "nbformat": 4,
 "nbformat_minor": 2
}
